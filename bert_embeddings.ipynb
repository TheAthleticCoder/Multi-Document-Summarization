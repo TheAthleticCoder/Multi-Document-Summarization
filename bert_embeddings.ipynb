{
 "cells": [
  {
   "cell_type": "code",
   "execution_count": 2,
   "metadata": {},
   "outputs": [
    {
     "name": "stderr",
     "output_type": "stream",
     "text": [
      "/home/harshit-g/miniconda3/lib/python3.11/site-packages/tqdm/auto.py:21: TqdmWarning: IProgress not found. Please update jupyter and ipywidgets. See https://ipywidgets.readthedocs.io/en/stable/user_install.html\n",
      "  from .autonotebook import tqdm as notebook_tqdm\n"
     ]
    }
   ],
   "source": [
    "import torch\n",
    "from transformers import BertTokenizer, BertModel\n",
    "import logging\n",
    "logging.basicConfig(level=logging.INFO) "
   ]
  },
  {
   "cell_type": "code",
   "execution_count": 4,
   "metadata": {},
   "outputs": [
    {
     "name": "stderr",
     "output_type": "stream",
     "text": [
      "Downloading (…)solve/main/vocab.txt: 100%|██████████| 232k/232k [00:00<00:00, 563kB/s]\n",
      "Downloading (…)okenizer_config.json: 100%|██████████| 28.0/28.0 [00:00<00:00, 99.9kB/s]\n",
      "Downloading (…)lve/main/config.json: 100%|██████████| 570/570 [00:00<00:00, 2.00MB/s]\n",
      "Downloading model.safetensors: 100%|██████████| 440M/440M [00:39<00:00, 11.1MB/s] \n"
     ]
    }
   ],
   "source": [
    "model_name = \"bert-base-uncased\"  # You can change this to a different BERT model\n",
    "tokenizer = BertTokenizer.from_pretrained(model_name)\n",
    "model = BertModel.from_pretrained(model_name)"
   ]
  },
  {
   "cell_type": "code",
   "execution_count": null,
   "metadata": {},
   "outputs": [],
   "source": [
    "texts = [\n",
    "    \"Example text 1\",\n",
    "    \"Another example text with a longer sequence.\",\n",
    "    \"Short text\",\n",
    "]\n",
    "device = torch.device(\"cuda\" if torch.cuda.is_available() else \"cpu\")  # Use GPU if available\n",
    "\n",
    "model.to(device) \n",
    "model.eval() \n",
    "\n",
    "# Define the maximum token length you want to limit to\n",
    "max_token_length = 20  # You can adjust this based on your requirements\n",
    "\n",
    "# Create an empty dictionary to store the results\n",
    "encoded_texts = {}\n",
    "\n",
    "# Loop through each text and encode it\n",
    "for text in texts:\n",
    "    # Tokenize the text and ensure it doesn't exceed max_token_length\n",
    "    tokenized_text = tokenizer(text, truncation=True, padding=\"max_length\", max_length=max_token_length, return_tensors=\"pt\")\n",
    "\n",
    "    # Pass the tokenized input through the BERT model\n",
    "    with torch.no_grad():\n",
    "        outputs = model(**tokenized_text)\n",
    "\n",
    "    # Extract the embeddings from the model output\n",
    "    embeddings = outputs.last_hidden_state  # This contains the embeddings\n",
    "\n",
    "    # Store the text and its corresponding embeddings in the dictionary\n",
    "    encoded_texts[text] = embeddings"
   ]
  }
 ],
 "metadata": {
  "kernelspec": {
   "display_name": "base",
   "language": "python",
   "name": "python3"
  },
  "language_info": {
   "codemirror_mode": {
    "name": "ipython",
    "version": 3
   },
   "file_extension": ".py",
   "mimetype": "text/x-python",
   "name": "python",
   "nbconvert_exporter": "python",
   "pygments_lexer": "ipython3",
   "version": "3.11.4"
  },
  "orig_nbformat": 4
 },
 "nbformat": 4,
 "nbformat_minor": 2
}
