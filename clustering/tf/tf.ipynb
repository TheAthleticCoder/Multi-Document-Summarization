{
 "cells": [
  {
   "cell_type": "code",
   "execution_count": 1,
   "metadata": {},
   "outputs": [],
   "source": [
    "import pandas as pd\n",
    "from nltk.stem.wordnet import WordNetLemmatizer\n",
    "from nltk.corpus import stopwords"
   ]
  },
  {
   "cell_type": "code",
   "execution_count": 2,
   "metadata": {},
   "outputs": [],
   "source": [
    "import re\n",
    "\n",
    "def clean(df: pd.DataFrame) -> pd.DataFrame:\n",
    "    # convert to lowercase\n",
    "    df['documents'] = df['documents'].apply(lambda x: [i.lower() for i in x])\n",
    "\n",
    "    # remove special characters\n",
    "    df['documents'] = df['documents'].apply(lambda x: [re.sub(r'[^a-zA-Z0-9!.?]', ' ', i) for i in x])\n",
    "\n",
    "    # remove multiple spaces\n",
    "    df['documents'] = df['documents'].apply(lambda x: [re.sub(r' +', ' ', i) for i in x])\n",
    "\n",
    "    # remove stopwords\n",
    "    stop_words = stopwords.words('english')\n",
    "    df['documents'] = df['documents'].apply(lambda x: [i for i in x if i not in stop_words])\n",
    "\n",
    "    # Lemmatize\n",
    "    lmtzr = WordNetLemmatizer()\n",
    "    df['documents'] = df['documents'].apply(lambda x: [lmtzr.lemmatize(i) for i in x])\n",
    "\n",
    "    return df"
   ]
  },
  {
   "cell_type": "code",
   "execution_count": 16,
   "metadata": {},
   "outputs": [],
   "source": [
    "from sklearn.feature_extraction.text import CountVectorizer\n",
    "from sklearn.cluster import KMeans\n",
    "\n",
    "def get_similar(clean_df: pd.DataFrame, df: pd.DataFrame, filename: str, num_clusters: int) -> pd.DataFrame:\n",
    "    tf = CountVectorizer()\n",
    "\n",
    "    clean_df['topic'] = clean_df['documents'].apply(lambda x: KMeans(n_clusters=num_clusters, random_state=0).fit(tf.fit_transform(x)).labels_)\n",
    "\n",
    "    groups = []\n",
    "    similar_df = df.copy(deep=True)\n",
    "    for i in range(clean_df.shape[0]):\n",
    "        grouped_doc = {i: [] for i in range(num_clusters)}\n",
    "        for idx, j in enumerate(clean_df['topic'][i]):\n",
    "            grouped_doc[j].append(df['documents'][i][idx])\n",
    "        max_topic = max(grouped_doc, key=lambda x: len(grouped_doc[x]))\n",
    "        groups.append(grouped_doc[max_topic])\n",
    "    similar_df['documents'] = groups\n",
    "    similar_df['num_documents'] = similar_df['documents'].apply(lambda x: len(x))\n",
    "\n",
    "    similar_df.to_csv(f'tf_{filename}')"
   ]
  },
  {
   "cell_type": "code",
   "execution_count": 17,
   "metadata": {},
   "outputs": [
    {
     "name": "stderr",
     "output_type": "stream",
     "text": [
      "/home/shu7bh/.conda/envs/main/lib/python3.11/site-packages/sklearn/cluster/_kmeans.py:1412: FutureWarning: The default value of `n_init` will change from 10 to 'auto' in 1.4. Set the value of `n_init` explicitly to suppress the warning\n",
      "  super()._check_params_vs_input(X, default_n_init=10)\n",
      "/home/shu7bh/.conda/envs/main/lib/python3.11/site-packages/sklearn/cluster/_kmeans.py:1412: FutureWarning: The default value of `n_init` will change from 10 to 'auto' in 1.4. Set the value of `n_init` explicitly to suppress the warning\n",
      "  super()._check_params_vs_input(X, default_n_init=10)\n",
      "/home/shu7bh/.conda/envs/main/lib/python3.11/site-packages/sklearn/cluster/_kmeans.py:1412: FutureWarning: The default value of `n_init` will change from 10 to 'auto' in 1.4. Set the value of `n_init` explicitly to suppress the warning\n",
      "  super()._check_params_vs_input(X, default_n_init=10)\n"
     ]
    }
   ],
   "source": [
    "import os\n",
    "\n",
    "num_clusters = 3\n",
    "\n",
    "dir_path = '../../multi_news/'\n",
    "files = ['sample_train.csv', 'sample_validation.csv', 'sample_test.csv']\n",
    "\n",
    "for file in files:\n",
    "    df = pd.read_csv(os.path.join(dir_path, file))\n",
    "    df['documents'] = df['documents'].apply(lambda x: eval(x))\n",
    "    clean_df = clean(df.copy(deep=True))\n",
    "    get_similar(clean_df, df, file, num_clusters)"
   ]
  },
  {
   "cell_type": "code",
   "execution_count": null,
   "metadata": {},
   "outputs": [],
   "source": []
  }
 ],
 "metadata": {
  "kernelspec": {
   "display_name": "main",
   "language": "python",
   "name": "python3"
  },
  "language_info": {
   "codemirror_mode": {
    "name": "ipython",
    "version": 3
   },
   "file_extension": ".py",
   "mimetype": "text/x-python",
   "name": "python",
   "nbconvert_exporter": "python",
   "pygments_lexer": "ipython3",
   "version": "3.11.4"
  },
  "orig_nbformat": 4
 },
 "nbformat": 4,
 "nbformat_minor": 2
}
