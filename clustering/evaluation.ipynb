{
 "cells": [
  {
   "cell_type": "markdown",
   "metadata": {},
   "source": [
    "### Importing Metric Libraries"
   ]
  },
  {
   "cell_type": "code",
   "execution_count": 1,
   "metadata": {},
   "outputs": [],
   "source": [
    "import pandas as pd\n",
    "from sklearn.metrics import accuracy_score, precision_score, recall_score, f1_score, classification_report"
   ]
  },
  {
   "cell_type": "code",
   "execution_count": 5,
   "metadata": {},
   "outputs": [
    {
     "name": "stdout",
     "output_type": "stream",
     "text": [
      "Accuracy: 10.80%\n"
     ]
    }
   ],
   "source": [
    "def calculate_accuracy(csv_file, target_column):\n",
    "    df = pd.read_csv(csv_file)\n",
    "    if target_column not in df.columns:\n",
    "        return \"Target column not found in the CSV.\"\n",
    "    #calculate accuracy\n",
    "    accuracy = df[target_column].mean()  #mean of the 'cluster_c2' column\n",
    "    return accuracy\n",
    "\n",
    "csv_file = 'multi_x_science/sample_test.csv'\n",
    "target_column = 'cluster_c2'\n",
    "accuracy = calculate_accuracy(csv_file, target_column)\n",
    "print(f\"Accuracy: {accuracy:.2%}\")\n"
   ]
  },
  {
   "cell_type": "code",
   "execution_count": null,
   "metadata": {},
   "outputs": [],
   "source": []
  }
 ],
 "metadata": {
  "kernelspec": {
   "display_name": "base",
   "language": "python",
   "name": "python3"
  },
  "language_info": {
   "codemirror_mode": {
    "name": "ipython",
    "version": 3
   },
   "file_extension": ".py",
   "mimetype": "text/x-python",
   "name": "python",
   "nbconvert_exporter": "python",
   "pygments_lexer": "ipython3",
   "version": "3.11.4"
  }
 },
 "nbformat": 4,
 "nbformat_minor": 2
}
