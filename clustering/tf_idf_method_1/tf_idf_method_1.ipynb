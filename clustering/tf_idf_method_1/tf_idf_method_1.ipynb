{
 "cells": [
  {
   "cell_type": "code",
   "execution_count": 1,
   "metadata": {},
   "outputs": [],
   "source": [
    "import pandas as pd"
   ]
  },
  {
   "cell_type": "code",
   "execution_count": 2,
   "metadata": {},
   "outputs": [],
   "source": [
    "import re\n",
    "from nltk.corpus import stopwords\n",
    "from nltk.stem import WordNetLemmatizer\n",
    "\n",
    "def clean(df: pd.DataFrame) -> pd.DataFrame:\n",
    "    # Convert to lowercase\n",
    "    df['documents'] = df['documents'].apply(lambda x: [i.lower() for i in x])\n",
    "\n",
    "    # Remove special characters\n",
    "    df['documents'] = df['documents'].apply(lambda x: [re.sub(r'[^a-zA-Z0-9!.?]', ' ', i) for i in x])\n",
    "\n",
    "    # Remove multiple spaces\n",
    "    df['documents'] = df['documents'].apply(lambda x: [re.sub(r' +', ' ', i) for i in x])\n",
    "\n",
    "    # Remove stopwords\n",
    "    stop_words = stopwords.words('english')\n",
    "    df['documents'] = df['documents'].apply(lambda x: [i for i in x if i not in stop_words])\n",
    "\n",
    "    # Lemmatize words\n",
    "    lmtzr = WordNetLemmatizer()\n",
    "    df['documents'] = df['documents'].apply(lambda x: [lmtzr.lemmatize(i) for i in x])\n",
    "\n",
    "    return df"
   ]
  },
  {
   "cell_type": "code",
   "execution_count": null,
   "metadata": {},
   "outputs": [],
   "source": [
    "from sklearn.feature_extraction.text import TfidfVectorizer\n",
    "from sklearn.cluster import KMeans\n",
    "\n",
    "def get_similar(clean_df: pd.DataFrame, df: pd.DataFrame, filename: str, num_clusters: int) -> pd.DataFrame:\n",
    "    tfidf = TfidfVectorizer()\n",
    "\n",
    "    # Create a set of all documents\n",
    "    documents = set()\n",
    "    for one_topic in clean_df['documents']:\n",
    "        documents.update(one_topic)\n",
    "\n",
    "    # Compute TF-IDF matrix for the documents\n",
    "    tfidf_matrix = tfidf.fit_transform(documents)\n",
    "\n",
    "    # Apply KMeans clustering to the TF-IDF matrix\n",
    "    kmeans = KMeans(n_clusters=num_clusters, random_state=0).fit(tfidf_matrix)\n",
    "\n",
    "    # Predict the cluster labels for the documents and store them in 'topic' column\n",
    "    clean_df['topic'] = clean_df['documents'].apply(lambda x: kmeans.predict(tfidf.transform(x)))\n",
    "\n",
    "    groups = []\n",
    "    similar_df = df.copy(deep=True)\n",
    "    for i in range(clean_df.shape[0]):\n",
    "        # Group documents by their cluster labels\n",
    "        grouped_doc = {i: [] for i in range(num_clusters)}\n",
    "        for idx, j in enumerate(clean_df['topic'][i]):\n",
    "            grouped_doc[j].append(df['documents'][i][idx])\n",
    "        # Find the cluster with the most documents and store its documents in 'groups'\n",
    "        max_topic = max(grouped_doc, key=lambda x: len(grouped_doc[x]))\n",
    "        groups.append(grouped_doc[max_topic])\n",
    "    # Replace 'documents' column with the grouped documents and count the number of documents in each group\n",
    "    similar_df['documents'] = groups\n",
    "    similar_df['num_documents'] = similar_df['documents'].apply(lambda x: len(x))\n",
    "\n",
    "    # Save the DataFrame to a CSV file\n",
    "    similar_df.to_csv(f'tf_idf_method_1_{filename}')"
   ]
  },
  {
   "cell_type": "code",
   "execution_count": null,
   "metadata": {},
   "outputs": [],
   "source": [
    "import os\n",
    "\n",
    "num_clusters = 3  # Number of clusters for KMeans\n",
    "\n",
    "dir_path = '../../multi_news/'  # Directory path for the files\n",
    "files = ['sample_train.csv', 'sample_validation.csv', 'sample_test.csv']  # List of files to process\n",
    "\n",
    "for file in files:\n",
    "    df = pd.read_csv(os.path.join(dir_path, file))  # Read the file into a DataFrame\n",
    "    df['documents'] = df['documents'].apply(lambda x: eval(x))  # Convert 'documents' column from string to list\n",
    "    clean_df = clean(df.copy(deep=True))  # Clean the DataFrame\n",
    "    get_similar(clean_df, df, file, num_clusters)  # Apply KMeans clustering and save the result"
   ]
  },
  {
   "cell_type": "code",
   "execution_count": null,
   "metadata": {},
   "outputs": [],
   "source": []
  }
 ],
 "metadata": {
  "kernelspec": {
   "display_name": "main",
   "language": "python",
   "name": "python3"
  },
  "language_info": {
   "codemirror_mode": {
    "name": "ipython",
    "version": 3
   },
   "file_extension": ".py",
   "mimetype": "text/x-python",
   "name": "python",
   "nbconvert_exporter": "python",
   "pygments_lexer": "ipython3",
   "version": "3.11.4"
  },
  "orig_nbformat": 4
 },
 "nbformat": 4,
 "nbformat_minor": 2
}
