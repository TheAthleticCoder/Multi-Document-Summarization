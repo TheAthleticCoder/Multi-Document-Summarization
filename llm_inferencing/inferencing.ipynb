{
 "cells": [
  {
   "cell_type": "markdown",
   "id": "2288caab-857d-424a-9a4f-53ee1f7d7779",
   "metadata": {},
   "source": [
    "### **Libraries and Required Logins**"
   ]
  },
  {
   "cell_type": "code",
   "execution_count": null,
   "id": "13d9ec90-86e2-4b2a-b39e-e372eb8905a0",
   "metadata": {},
   "outputs": [],
   "source": [
    "from transformers import AutoModelForCausalLM, AutoTokenizer\n",
    "import torch\n",
    "from transformers import BitsAndBytesConfig\n",
    "from torch import cuda\n",
    "device = f'cuda:{cuda.current_device()}' if cuda.is_available() else 'cpu'\n",
    "print(device)"
   ]
  },
  {
   "cell_type": "markdown",
   "id": "01be5918-f308-4a40-90d0-3fa0a520531b",
   "metadata": {
    "tags": []
   },
   "source": [
    "### **Loading Quantized Models**"
   ]
  },
  {
   "cell_type": "code",
   "execution_count": 2,
   "id": "6bdae4c0-9f8e-4b2d-973d-f9ab73226ac2",
   "metadata": {},
   "outputs": [
    {
     "name": "stderr",
     "output_type": "stream",
     "text": [
      "/home2/harshit.g/miniconda3/envs/work/lib/python3.11/site-packages/transformers/models/auto/auto_factory.py:472: FutureWarning: The `use_auth_token` argument is deprecated and will be removed in v5 of Transformers.\n",
      "  warnings.warn(\n"
     ]
    },
    {
     "data": {
      "application/vnd.jupyter.widget-view+json": {
       "model_id": "8508e6eeb16c40789349a6ac13f45e6e",
       "version_major": 2,
       "version_minor": 0
      },
      "text/plain": [
       "Downloading (…)model.bin.index.json:   0%|          | 0.00/23.9k [00:00<?, ?B/s]"
      ]
     },
     "metadata": {},
     "output_type": "display_data"
    },
    {
     "data": {
      "application/vnd.jupyter.widget-view+json": {
       "model_id": "3259496d9c4243218881962474536121",
       "version_major": 2,
       "version_minor": 0
      },
      "text/plain": [
       "Downloading shards:   0%|          | 0/2 [00:00<?, ?it/s]"
      ]
     },
     "metadata": {},
     "output_type": "display_data"
    },
    {
     "data": {
      "application/vnd.jupyter.widget-view+json": {
       "model_id": "07c6f17318ae4dcfab231819fd8477ff",
       "version_major": 2,
       "version_minor": 0
      },
      "text/plain": [
       "Downloading (…)l-00001-of-00002.bin:   0%|          | 0.00/9.94G [00:00<?, ?B/s]"
      ]
     },
     "metadata": {},
     "output_type": "display_data"
    },
    {
     "data": {
      "application/vnd.jupyter.widget-view+json": {
       "model_id": "7d8fc5e6151242e2a7c1ee5da892fbff",
       "version_major": 2,
       "version_minor": 0
      },
      "text/plain": [
       "Downloading (…)l-00002-of-00002.bin:   0%|          | 0.00/5.06G [00:00<?, ?B/s]"
      ]
     },
     "metadata": {},
     "output_type": "display_data"
    },
    {
     "data": {
      "application/vnd.jupyter.widget-view+json": {
       "model_id": "a1069b74f99140eebc39c35d30a2cec6",
       "version_major": 2,
       "version_minor": 0
      },
      "text/plain": [
       "Loading checkpoint shards:   0%|          | 0/2 [00:00<?, ?it/s]"
      ]
     },
     "metadata": {},
     "output_type": "display_data"
    },
    {
     "name": "stderr",
     "output_type": "stream",
     "text": [
      "/home2/harshit.g/miniconda3/envs/work/lib/python3.11/site-packages/transformers/utils/hub.py:374: FutureWarning: The `use_auth_token` argument is deprecated and will be removed in v5 of Transformers.\n",
      "  warnings.warn(\n"
     ]
    },
    {
     "data": {
      "application/vnd.jupyter.widget-view+json": {
       "model_id": "20609c6e79c7479f935a9d1100256719",
       "version_major": 2,
       "version_minor": 0
      },
      "text/plain": [
       "Downloading (…)neration_config.json:   0%|          | 0.00/116 [00:00<?, ?B/s]"
      ]
     },
     "metadata": {},
     "output_type": "display_data"
    },
    {
     "name": "stderr",
     "output_type": "stream",
     "text": [
      "/home2/harshit.g/miniconda3/envs/work/lib/python3.11/site-packages/transformers/models/auto/tokenization_auto.py:655: FutureWarning: The `use_auth_token` argument is deprecated and will be removed in v5 of Transformers.\n",
      "  warnings.warn(\n"
     ]
    },
    {
     "data": {
      "application/vnd.jupyter.widget-view+json": {
       "model_id": "50d5aba21d3542e29fcf9ea63c7241b8",
       "version_major": 2,
       "version_minor": 0
      },
      "text/plain": [
       "Downloading (…)okenizer_config.json:   0%|          | 0.00/1.47k [00:00<?, ?B/s]"
      ]
     },
     "metadata": {},
     "output_type": "display_data"
    },
    {
     "data": {
      "application/vnd.jupyter.widget-view+json": {
       "model_id": "b26f1e2f53fe42f3b3d34d5f5c48136f",
       "version_major": 2,
       "version_minor": 0
      },
      "text/plain": [
       "Downloading tokenizer.model:   0%|          | 0.00/493k [00:00<?, ?B/s]"
      ]
     },
     "metadata": {},
     "output_type": "display_data"
    },
    {
     "data": {
      "application/vnd.jupyter.widget-view+json": {
       "model_id": "02b8ee2af9224a9d93427a8cbc43a602",
       "version_major": 2,
       "version_minor": 0
      },
      "text/plain": [
       "Downloading (…)/main/tokenizer.json:   0%|          | 0.00/1.80M [00:00<?, ?B/s]"
      ]
     },
     "metadata": {},
     "output_type": "display_data"
    },
    {
     "data": {
      "application/vnd.jupyter.widget-view+json": {
       "model_id": "849368f9570c4f4faf87369fc570b1de",
       "version_major": 2,
       "version_minor": 0
      },
      "text/plain": [
       "Downloading (…)cial_tokens_map.json:   0%|          | 0.00/72.0 [00:00<?, ?B/s]"
      ]
     },
     "metadata": {},
     "output_type": "display_data"
    },
    {
     "name": "stderr",
     "output_type": "stream",
     "text": [
      "Special tokens have been added in the vocabulary, make sure the associated word embeddings are fine-tuned or trained.\n"
     ]
    },
    {
     "name": "stdout",
     "output_type": "stream",
     "text": [
      "MistralForCausalLM(\n",
      "  (model): MistralModel(\n",
      "    (embed_tokens): Embedding(32000, 4096)\n",
      "    (layers): ModuleList(\n",
      "      (0-31): 32 x MistralDecoderLayer(\n",
      "        (self_attn): MistralAttention(\n",
      "          (q_proj): Linear4bit(in_features=4096, out_features=4096, bias=False)\n",
      "          (k_proj): Linear4bit(in_features=4096, out_features=1024, bias=False)\n",
      "          (v_proj): Linear4bit(in_features=4096, out_features=1024, bias=False)\n",
      "          (o_proj): Linear4bit(in_features=4096, out_features=4096, bias=False)\n",
      "          (rotary_emb): MistralRotaryEmbedding()\n",
      "        )\n",
      "        (mlp): MistralMLP(\n",
      "          (gate_proj): Linear4bit(in_features=4096, out_features=14336, bias=False)\n",
      "          (up_proj): Linear4bit(in_features=4096, out_features=14336, bias=False)\n",
      "          (down_proj): Linear4bit(in_features=14336, out_features=4096, bias=False)\n",
      "          (act_fn): SiLUActivation()\n",
      "        )\n",
      "        (input_layernorm): MistralRMSNorm()\n",
      "        (post_attention_layernorm): MistralRMSNorm()\n",
      "      )\n",
      "    )\n",
      "    (norm): MistralRMSNorm()\n",
      "  )\n",
      "  (lm_head): Linear(in_features=4096, out_features=32000, bias=False)\n",
      ")\n",
      "Model size: 4,551,360,512 bytes\n"
     ]
    }
   ],
   "source": [
    "# model_id = \"meta-llama/Llama-2-7b-chat-hf\"\n",
    "model_id = \"mistralai/Mistral-7B-Instruct-v0.1\"\n",
    "hf_auth = ''\n",
    "bnb_config = BitsAndBytesConfig(\n",
    "    load_in_4bit=True,\n",
    "    bnb_4bit_use_double_quant=True,\n",
    "    bnb_4bit_quant_type=\"nf4\",\n",
    "    bnb_4bit_compute_dtype=torch.bfloat16\n",
    ")\n",
    "\n",
    "model = AutoModelForCausalLM.from_pretrained(model_id, quantization_config=bnb_config, use_auth_token=hf_auth)\n",
    "tokenizer = AutoTokenizer.from_pretrained(model_id, use_auth_token=hf_auth)\n",
    "\n",
    "print(model)\n",
    "print(f\"Model size: {model.get_memory_footprint():,} bytes\")"
   ]
  },
  {
   "cell_type": "code",
   "execution_count": 3,
   "id": "7cfac772-37ab-4986-be90-170eb7bd4ad1",
   "metadata": {},
   "outputs": [],
   "source": [
    "#Using pipeling to activate LangChain\n",
    "from transformers import pipeline\n",
    "\n",
    "pipe = pipeline(\"text-generation\",\n",
    "                model=model,\n",
    "                tokenizer= tokenizer,\n",
    "                torch_dtype=torch.bfloat16,\n",
    "                device_map=\"auto\",\n",
    "                max_new_tokens = 1024,\n",
    "                #do_sample=True,\n",
    "                #top_k=30,\n",
    "                #num_return_sequences=1,\n",
    "                eos_token_id=tokenizer.eos_token_id,\n",
    "                pad_token_id=tokenizer.eos_token_id,\n",
    "                )"
   ]
  },
  {
   "cell_type": "code",
   "execution_count": 3,
   "id": "d29bc104-ccf6-45ef-9409-5dc47159bf66",
   "metadata": {},
   "outputs": [],
   "source": [
    "import json\n",
    "import textwrap\n",
    "\n",
    "B_INST, E_INST = \"[INST]\", \"[/INST]\"\n",
    "B_SYS, E_SYS = \"<<SYS>>\\n\", \"\\n<</SYS>>\\n\\n\"\n",
    "\n",
    "# DEFAULT_SYSTEM_PROMPT = \"\"\"\\\n",
    "# You are an evaluation based assistant. You need to rate the summary for the corresponding news with respect to coherency on a scale of 1 to 5, where a rating of 1 means 'incoherent' and 5 means 'perfectly coherent'. You need to provide an explanation for your rating. \n",
    "# Note that coherency here means that the summary should be well-structured and well-organized. The summary should not just be a heap of related information, but should build from sentence to sentence to a coherent body of information about a topic.\n",
    "# First the News shall be provided, following which, the corresponding Summary shall be given.\n",
    "# \"\"\"\n",
    "\n",
    "DEFAULT_SYSTEM_PROMPT = \"\"\"\\\n",
    "You are a summary evaluation assistant. That means you rate a summary for a news article and provide an explanation for your rating.\n",
    "\"\"\"\n",
    "\n",
    "\"\"\"\n",
    "DO NOT CHANGE ANY OF THE BELOW FUNCTIONS\n",
    "\"\"\"\n",
    "def get_prompt(instruction, new_system_prompt=DEFAULT_SYSTEM_PROMPT ):\n",
    "    SYSTEM_PROMPT = B_SYS + new_system_prompt + E_SYS #system prompt: Default instruction to be given to the model\n",
    "    prompt_template =  B_INST + SYSTEM_PROMPT + instruction + E_INST # Final Template: takes in instruction as well. Here it would take in the summary and the source\n",
    "    return prompt_template\n",
    "\n",
    "#Function to remove the prompt from the final generated answer\n",
    "def cut_off_text(text, prompt):\n",
    "    cutoff_phrase = prompt\n",
    "    index = text.find(cutoff_phrase)\n",
    "    if index != -1:\n",
    "        return text[:index]\n",
    "    else:\n",
    "        return text\n",
    "\n",
    "def remove_substring(string, substring):\n",
    "    return string.replace(substring, \"\")\n",
    "\n",
    "### What torch.autocast is: casts tensors to a smaller memory footprint\n",
    "def generate(text):\n",
    "    prompt = get_prompt(text)\n",
    "    inputs = tokenizer(prompt, return_tensors=\"pt\").to('cuda')\n",
    "    outputs = model.generate(**inputs,\n",
    "                             max_new_tokens=512,\n",
    "                             eos_token_id=tokenizer.eos_token_id,\n",
    "                             pad_token_id=tokenizer.eos_token_id,\n",
    "                             )\n",
    "    final_outputs = tokenizer.batch_decode(outputs, skip_special_tokens=True)[0]\n",
    "    final_outputs = cut_off_text(final_outputs, '</s>')\n",
    "    final_outputs = remove_substring(final_outputs, prompt)\n",
    "\n",
    "    return final_outputs#, outputs\n",
    "\n",
    "def parse_text(text):\n",
    "        wrapped_text = textwrap.fill(text, width=100)\n",
    "        print(wrapped_text +'\\n\\n')\n",
    "        # return assistant_text\n"
   ]
  },
  {
   "cell_type": "code",
   "execution_count": 5,
   "id": "64a6e25f-79ee-4ab3-8674-fc63775045fc",
   "metadata": {},
   "outputs": [
    {
     "name": "stdout",
     "output_type": "stream",
     "text": [
      "The prompt looks like: \n",
      "\n",
      "[INST]<<SYS>>\n",
      "You are a summary evaluation assistant. That means you rate a summary for a news article and provide an explanation for your rating.\n",
      "\n",
      "<</SYS>>\n",
      "\n",
      "\n",
      "Please evaluate the coherence of the summary (enclosed in [SUMMARY] and [/SUMMARY]) for the news article (enclosed in [NEWS] and [/NEWS]) by providing a rating on a scale of 1 to 5, where 1 indicates 'incoherent' and 5 signifies 'perfectly coherent.' \n",
      "\n",
      "[NEWS] Neymar helped Brazil beat Chile 1-0 at the Emirates stadium last weekend. Barcelona won the El Clasico to go four points clear at the top of La Liga. Luis Enrique's side take on Celta Vigo in La Liga on Sunday. Neymar and Alves support Barcelona's basketball. Real Madrid is currently atop the Euro League. The two teammates watched basketball together. A recent team in Brazil has won a large contest over their rivals for the year. The player's sister was there to support her brother march to victory. Neyman and teammate Dani Alves showed their support to Barcelona by watching the club's basketball game. Barcelona beat Real Madrid in basketball on Thursday night, 85-80. In the stands were Brazil football stars Alves and Neymar. Neymar and Dani Alves, teammates at Barcelona attended an El Clasico of basketball with Rafealle, Neymar's sister. The two player, Neymar and Alves will return from intentional break to play for Barca who currently are top of the La Liga. They are pursuing a treble of trophies this season. Neymar also captained Brazil in their 1-0 victory over Chile at the weekend. Neymar is playing for Barcelona The Brazilian's sister, Rafaella, is who Neymar and Alves watched El Clasico with Neymar helped Brazil to beat Chile Neymar plays for Brazil. Neymar's sister watched the game with Neymar and Alves. Brazil was helped by Neymar to beat Chile at Emirates Stadium. Neymar of Barcelona in the Spanish La Liga attended the basketball El Clasico with his sister, Rafaella and his teammate, Dani Alves. Neymar captained his Brazilian team in their 1-nil victory against Chile played at the Emirates. Barca just beat their rival  at El Clasico 85 to 80. Neymar and his Barcelona teammate Alves went to the club's basketball game along with Neymar's sister Rafaella. Neymar previously helped Brazil beat their rivals on the Chilean team at Emirates Stadium. Barcelona's Nemar and Dani Alves went along with Fafaella to support during a basketball game where Neymar helped brazil win 1-0 over chile. [/NEWS]\n",
      "\n",
      "[SUMMARY] who? neymar and a man? trash support the club's basketball side. [/SUMMARY]\n",
      "[/INST]\n",
      "Generated Result is: \n",
      "\n",
      " Rating: 2\n",
      "\n",
      "The summary is incoherent and lacks clarity. It contains multiple sentences that are not related to each other and do not provide a clear narrative. The sentences are also repetitive and contain similar information, making it difficult to understand the main points of the article. Additionally, the summary does not provide any context or background information about the events mentioned, making it difficult to understand their significance.\n"
     ]
    }
   ],
   "source": [
    "instruction = \"\"\"\n",
    "\n",
    "\"\"\"\n",
    "print(\"The prompt looks like: \\n\")\n",
    "print(get_prompt(instruction))\n",
    "print(\"Generated Result is: \\n\")\n",
    "print(generate(instruction))"
   ]
  },
  {
   "cell_type": "markdown",
   "id": "1c59a7d2",
   "metadata": {},
   "source": [
    "### LangChain Integration"
   ]
  },
  {
   "cell_type": "code",
   "execution_count": 5,
   "id": "8609c6ee-c465-4910-a405-e28a44815d2f",
   "metadata": {},
   "outputs": [],
   "source": [
    "from langchain import HuggingFacePipeline\n",
    "from langchain import PromptTemplate,  LLMChain"
   ]
  },
  {
   "cell_type": "code",
   "execution_count": 6,
   "id": "a295bbcb-0d36-4c0c-babb-30ae7c2bb121",
   "metadata": {},
   "outputs": [],
   "source": [
    "llm = HuggingFacePipeline(pipeline = pipe, model_kwargs = {'temperature':0})"
   ]
  },
  {
   "cell_type": "code",
   "execution_count": 19,
   "id": "08a20a2f-5213-4f53-94af-ed231da4a78f",
   "metadata": {},
   "outputs": [
    {
     "name": "stdout",
     "output_type": "stream",
     "text": [
      "[INST]<<SYS>>\n",
      "You are a summary evaluation assistant. That means you rate a summary for a news and provide an explanation for your rating.\n",
      "The news article says 'Neymar helped Brazil beat Chile 1-0 at the Emirates stadium last weekend. Barcelona won the El Clasico to go four points clear at the top of La Liga. Luis Enrique's side take on Celta Vigo in La Liga on Sunday. Neymar and Alves support Barcelona's basketball. Real Madrid is currently atop the Euro League. The two teammates watched basketball together. A recent team in Brazil has won a large contest over their rivals for the year. The player's sister was there to support her brother march to victory. Neyman and teammate Dani Alves showed their support to Barcelona by watching the club's basketball game. Barcelona beat Real Madrid in basketball on Thursday night, 85-80. In the stands were Brazil football stars Alves and Neymar. Neymar and Dani Alves, teammates at Barcelona attended an El Clasico of basketball with Rafealle, Neymar's sister. The two player, Neymar and Alves will return from intentional break to play for Barca who currently are top of the La Liga. They are pursuing a treble of trophies this season. Neymar also captained Brazil in their 1-0 victory over Chile at the weekend. Neymar is playing for Barcelona The Brazilian's sister, Rafaella, is who Neymar and Alves watched El Clasico with Neymar helped Brazil to beat Chile Neymar plays for Brazil. Neymar's sister watched the game with Neymar and Alves. Brazil was helped by Neymar to beat Chile at Emirates Stadium. Neymar of Barcelona in the Spanish La Liga attended the basketball El Clasico with his sister, Rafaella and his teammate, Dani Alves. Neymar captained his Brazilian team in their 1-nil victory against Chile played at the Emirates. Barca just beat their rival  at El Clasico 85 to 80. Neymar and his Barcelona teammate Alves went to the club's basketball game along with Neymar's sister Rafaella. Neymar previously helped Brazil beat their rivals on the Chilean team at Emirates Stadium. Barcelona's Nemar and Dani Alves went along with Fafaella to support during a basketball game where Neymar helped brazil win 1-0 over chile.'\n",
      "\n",
      "<</SYS>>\n",
      "\n",
      "I have given summary of the given news article below. Please evaluate the coherence of the summary for the news by providing a rating on a scale of 1 to 5, where 1 indicates 'incoherent' and 5 signifies 'perfectly coherent'. \n",
      "{text}[/INST]\n"
     ]
    }
   ],
   "source": [
    "system_prompt = \"\"\"You are a summary evaluation assistant. That means you rate a summary for a news and provide an explanation for your rating.\n",
    "The news article says 'Neymar helped Brazil beat Chile 1-0 at the Emirates stadium last weekend. Barcelona won the El Clasico to go four points clear at the top of La Liga. Luis Enrique's side take on Celta Vigo in La Liga on Sunday. Neymar and Alves support Barcelona's basketball. Real Madrid is currently atop the Euro League. The two teammates watched basketball together. A recent team in Brazil has won a large contest over their rivals for the year. The player's sister was there to support her brother march to victory. Neyman and teammate Dani Alves showed their support to Barcelona by watching the club's basketball game. Barcelona beat Real Madrid in basketball on Thursday night, 85-80. In the stands were Brazil football stars Alves and Neymar. Neymar and Dani Alves, teammates at Barcelona attended an El Clasico of basketball with Rafealle, Neymar's sister. The two player, Neymar and Alves will return from intentional break to play for Barca who currently are top of the La Liga. They are pursuing a treble of trophies this season. Neymar also captained Brazil in their 1-0 victory over Chile at the weekend. Neymar is playing for Barcelona The Brazilian's sister, Rafaella, is who Neymar and Alves watched El Clasico with Neymar helped Brazil to beat Chile Neymar plays for Brazil. Neymar's sister watched the game with Neymar and Alves. Brazil was helped by Neymar to beat Chile at Emirates Stadium. Neymar of Barcelona in the Spanish La Liga attended the basketball El Clasico with his sister, Rafaella and his teammate, Dani Alves. Neymar captained his Brazilian team in their 1-nil victory against Chile played at the Emirates. Barca just beat their rival  at El Clasico 85 to 80. Neymar and his Barcelona teammate Alves went to the club's basketball game along with Neymar's sister Rafaella. Neymar previously helped Brazil beat their rivals on the Chilean team at Emirates Stadium. Barcelona's Nemar and Dani Alves went along with Fafaella to support during a basketball game where Neymar helped brazil win 1-0 over chile.'\n",
    "\"\"\"\n",
    "instruction = \"the summary of the news below. Please evaluate the coherence of the summary for the news by providing a rating on a scale of 1 to 5, where 1 indicates 'incoherent' and 5 signifies 'perfectly coherent'. \\n{text}\"\"\"\n",
    "#Please evaluate the coherence of the summary for the news by providing a rating on a scale of 1 to 5, where 1 indicates 'incoherent' and 5 signifies 'perfectly coherent.' \n",
    "template = get_prompt(instruction, system_prompt)\n",
    "print(template)\n",
    "\n",
    "prompt = PromptTemplate(template=template, input_variables=[\"text\"])\n",
    "llm_chain = LLMChain(prompt=prompt, llm=llm)\"\"I have given you "
   ]
  },
  {
   "cell_type": "code",
   "execution_count": 21,
   "id": "e35c7e8e-db0b-4f15-8e18-c3cba99dd552",
   "metadata": {},
   "outputs": [
    {
     "name": "stdout",
     "output_type": "stream",
     "text": [
      "  Thank you for providing the news article and the summary for evaluation. Based on the coherence\n",
      "and accuracy of the summary, I would rate it a 4 out of 5. The summary provides a clear and concise\n",
      "overview of the news article, highlighting the main points and key information. It accurately\n",
      "conveys the message of the article, including the involvement of Neymar and Dani Alves in supporting\n",
      "Barcelona's basketball team, their previous victory over Chile, and their current pursuit of a\n",
      "treble of trophies. The summary also uses appropriate language and sentence structure to convey the\n",
      "information effectively. However, there is a minor flaw in the summary. The phrase \"team-mates\n",
      "neymar and dani alves proved their dedication to barcelona by supporting the club's basketball side\"\n",
      "is a bit simplistic and doesn't fully capture the context and nuances of the original article. For\n",
      "example, the article mentions that Neymar captained Brazil in their victory over Chile, which is not\n",
      "explicitly mentioned in the summary. Additionally, the summary could benefit from more varied\n",
      "sentence structures and more specific language to convey the details of the article. Overall, the\n",
      "summary is well-written and accurately conveys the main points of the article, but could benefit\n",
      "from some minor improvements to make it more comprehensive and engaging.\n",
      "\n",
      "\n"
     ]
    }
   ],
   "source": [
    "text = \"\"\" \n",
    "The summary of the above news article is 'team-mates neymar and dani alves proved their dedication to barcelona by supporting the club's basketball side.' \"\"\"\n",
    "output = llm_chain.run(text)\n",
    "parse_text(output)"
   ]
  },
  {
   "cell_type": "markdown",
   "id": "a3b6c9b7-86c5-4df4-8b82-859d3e01d1cd",
   "metadata": {},
   "source": [
    "### Conversational Memory"
   ]
  },
  {
   "cell_type": "code",
   "execution_count": 7,
   "id": "9db4786f-99a6-447f-a6e2-96a5f95678b6",
   "metadata": {},
   "outputs": [],
   "source": [
    "from langchain import HuggingFacePipeline\n",
    "from langchain import PromptTemplate,  LLMChain\n",
    "from langchain.memory import ConversationBufferMemory\n",
    "from langchain import LLMChain, PromptTemplate"
   ]
  },
  {
   "cell_type": "code",
   "execution_count": 8,
   "id": "2b54935e-54af-43ad-a70c-7574c9de2281",
   "metadata": {},
   "outputs": [
    {
     "name": "stdout",
     "output_type": "stream",
     "text": [
      "[INST]<<SYS>>\n",
      "You are a summary evaluation assistant. That means you rate a summary for a news article and provide an explanation for your rating. You always only answer for the assistant then you stop. read the chat history to get context\n",
      "<</SYS>>\n",
      "\n",
      "Chat History:\n",
      "\n",
      "{chat_history} \n",
      "\n",
      "User: {user_input}[/INST]\n"
     ]
    }
   ],
   "source": [
    "instruction = \"Chat History:\\n\\n{chat_history} \\n\\nUser: {user_input}\"\n",
    "system_prompt = \"You are a summary evaluation assistant. That means you rate a summary for a news article and provide an explanation for your rating. You always only answer for the assistant then you stop. read the chat history to get context\"\n",
    "\n",
    "template = get_prompt(instruction, system_prompt)\n",
    "print(template)\n"
   ]
  },
  {
   "cell_type": "code",
   "execution_count": 14,
   "id": "9a35c389-beb8-4410-bea4-3b04702360b6",
   "metadata": {},
   "outputs": [],
   "source": [
    "prompt = PromptTemplate(\n",
    "    input_variables=[\"chat_history\", \"user_input\"], template=template\n",
    ")\n",
    "memory = ConversationBufferMemory(memory_key=\"chat_history\")\n",
    "llm_chain = LLMChain(\n",
    "    llm=llm,\n",
    "    prompt=prompt,\n",
    "    verbose=True,\n",
    "    memory=memory,\n",
    ")"
   ]
  },
  {
   "cell_type": "code",
   "execution_count": 15,
   "id": "08810dc3-7f0b-4f4e-8979-83f3a4e4e722",
   "metadata": {},
   "outputs": [
    {
     "name": "stdout",
     "output_type": "stream",
     "text": [
      "\n",
      "\n",
      "\u001b[1m> Entering new LLMChain chain...\u001b[0m\n",
      "Prompt after formatting:\n",
      "\u001b[32;1m\u001b[1;3m[INST]<<SYS>>\n",
      "You are a summary evaluation assistant. That means you rate a summary for a news article and provide an explanation for your rating. You always only answer for the assistant then you stop. read the chat history to get context\n",
      "<</SYS>>\n",
      "\n",
      "Chat History:\n",
      "\n",
      " \n",
      "\n",
      "User: I have written a summary for a news article. I need you to rate the summary for the corresponding news with respect to coherency on a scale of 1 to 5, where a rating of 1 means 'incoherent' and 5 means 'perfectly coherent'. You need to provide an explanation for your rating. \n",
      "Please note that Note that coherency here means that the summary should be well-structured and well-organized. The summary should not just be a heap of related information, but should build from sentence to sentence to a coherent body of information about a topic. \n",
      "What should I provide and in which format, so that you can give me the rating?\n",
      "[/INST]\u001b[0m\n",
      "\n",
      "\u001b[1m> Finished chain.\u001b[0m\n"
     ]
    },
    {
     "data": {
      "text/plain": [
       "\"  Great, I'm ready to help! To rate the summary for coherency, I will need you to provide the summary of the news article in a clear and concise format. Please paste the summary into the chat window, and I will evaluate it based on the criteria you provided.\\nOnce I have the summary, I will give it a rating on a scale of 1 to 5, where 1 means incoherent and 5 means perfectly coherent. I will also provide an explanation for my rating, highlighting the strengths and weaknesses of the summary.\\nPlease go ahead and provide the summary, and I will get started on the evaluation.\""
      ]
     },
     "execution_count": 15,
     "metadata": {},
     "output_type": "execute_result"
    }
   ],
   "source": [
    "#You need to rate the summary for the corresponding news with respect to coherency on a scale of 1 to 5, where a rating of 1 means 'incoherent' and 5 means 'perfectly coherent'. You need to provide an explanation for your rating. \n",
    "# Note that coherency here means that the summary should be well-structured and well-organized. The summary should not just be a heap of related information, but should build from sentence to sentence to a coherent body of information about a topic.\n",
    "llm_chain.predict(user_input=\"\"\"I have written a summary for a news article. I need you to rate the summary for the corresponding news with respect to coherency on a scale of 1 to 5, where a rating of 1 means 'incoherent' and 5 means 'perfectly coherent'. You need to provide an explanation for your rating. \n",
    "Please note that Note that coherency here means that the summary should be well-structured and well-organized. The summary should not just be a heap of related information, but should build from sentence to sentence to a coherent body of information about a topic. \n",
    "What should I provide and in which format, so that you can give me the rating?\n",
    "\"\"\")\n",
    "\n",
    "###I wrote a summary of a news article. The summary is: 'Harshit is a 9 year old boy who dances well'. \n",
    "#The news article which I summarized is: 'Neymar helped Brazil beat Chile 1-0 at the Emirates stadium last weekend. Barcelona won the El Clasico to go four points clear at the top of La Liga. Luis Enrique's side take on Celta Vigo in La Liga on Sunday. Neymar and Alves support Barcelona's basketball. Real Madrid is currently atop the Euro League. The two teammates watched basketball together. A recent team in Brazil has won a large contest over their rivals for the year. The player's sister was there to support her brother march to victory. Neyman and teammate Dani Alves showed their support to Barcelona by watching the club's basketball game. Barcelona beat Real Madrid in basketball on Thursday night, 85-80. In the stands were Brazil football stars Alves and Neymar. Neymar and Dani Alves, teammates at Barcelona attended an El Clasico of basketball with Rafealle, Neymar's sister. The two player, Neymar and Alves will return from intentional break to play for Barca who currently are top of the La Liga. They are pursuing a treble of trophies this season. Neymar also captained Brazil in their 1-0 victory over Chile at the weekend. Neymar is playing for Barcelona The Brazilian's sister, Rafaella, is who Neymar and Alves watched El Clasico with Neymar helped Brazil to beat Chile Neymar plays for Brazil. Neymar's sister watched the game with Neymar and Alves. Brazil was helped by Neymar to beat Chile at Emirates Stadium. Neymar of Barcelona in the Spanish La Liga attended the basketball El Clasico with his sister, Rafaella and his teammate, Dani Alves. Neymar captained his Brazilian team in their 1-nil victory against Chile played at the Emirates. Barca just beat their rival  at El Clasico 85 to 80. Neymar and his Barcelona teammate Alves went to the club's basketball game along with Neymar's sister Rafaella. Neymar previously helped Brazil beat their rivals on the Chilean team at Emirates Stadium. Barcelona's Nemar and Dani Alves went along with Fafaella to support during a basketball game where Neymar helped brazil win 1-0 over chile.'. \n",
    "#I need your help to evaluate the coherence of the summary (given in the beginning) by providing a rating on a scale of 1 to 5, where 1 indicates 'incoherent' and 5 signifies 'perfectly coherent.' Please note that Note that coherency here means that the summary should be well-structured and well-organized. The summary should not just be a heap of related information, but should build from sentence to sentence to a coherent body of information about a topic.\n"
   ]
  },
  {
   "cell_type": "code",
   "execution_count": 16,
   "id": "ee25166c-79b1-4a7a-8be1-a9c8dda88921",
   "metadata": {},
   "outputs": [
    {
     "name": "stdout",
     "output_type": "stream",
     "text": [
      "\n",
      "\n",
      "\u001b[1m> Entering new LLMChain chain...\u001b[0m\n",
      "Prompt after formatting:\n",
      "\u001b[32;1m\u001b[1;3m[INST]<<SYS>>\n",
      "You are a summary evaluation assistant. That means you rate a summary for a news article and provide an explanation for your rating. You always only answer for the assistant then you stop. read the chat history to get context\n",
      "<</SYS>>\n",
      "\n",
      "Chat History:\n",
      "\n",
      "Human: I have written a summary for a news article. I need you to rate the summary for the corresponding news with respect to coherency on a scale of 1 to 5, where a rating of 1 means 'incoherent' and 5 means 'perfectly coherent'. You need to provide an explanation for your rating. \n",
      "Please note that Note that coherency here means that the summary should be well-structured and well-organized. The summary should not just be a heap of related information, but should build from sentence to sentence to a coherent body of information about a topic. \n",
      "What should I provide and in which format, so that you can give me the rating?\n",
      "\n",
      "AI:   Great, I'm ready to help! To rate the summary for coherency, I will need you to provide the summary of the news article in a clear and concise format. Please paste the summary into the chat window, and I will evaluate it based on the criteria you provided.\n",
      "Once I have the summary, I will give it a rating on a scale of 1 to 5, where 1 means incoherent and 5 means perfectly coherent. I will also provide an explanation for my rating, highlighting the strengths and weaknesses of the summary.\n",
      "Please go ahead and provide the summary, and I will get started on the evaluation. \n",
      "\n",
      "User: \n",
      "The summary is: paul merson has restarted his row with andros townsend . the tottenham midfielder was brought on with only seven minutes remaining in his team 's 0-0 draw with burnley . andros townsend scores england 's equaliser in their 1-1 friendly draw with italy in turin .\n",
      "\n",
      "And the news article for which I wrote the above summary is: Andros Townsend an 83rd minute sub in Tottenham's draw with Burnley. He was unable to find a winner as the game ended without a goal. Townsend had clashed with Paul Merson last week over England call-up. Sports columnist Paul Merson and Andros Townsend are in the midst of a twitter feud. Merson started it when Townsend was called up and wrote something disparaging about him in his column. Since then things have gone back and forth between the two. Merson is angered by the statement made by Townsend in his Sky Sports column. Merson threw a dig at Townsend after scoring his last game. Paul Merson has officially restarted his row line up with Andros Townsend. This is a result of seeing Townsend's performance in the last seven minutes of the game the previous Sunday. An athlete was brought in to save the game during an event against a rival team.  Although many disagreed with this decision as players have been known to get in trouble from time to time. Paul Merson and Andros Townsend have been in a bout for a while now, Merson felt that Townsend did not deserve a place in the English team. Townsend scored for England with a crucial goal to which Merson apologized and acknowledge the performance of Townsend in that game and wished him well on his performance. The back and forth between the two men has continued regardless but it appears that now their bad feelings have subsided despite some light jest between the two. Paul Merson restarted his fued with the former Arenal player Andros Townsend. Townsend the former Arsenal player scored a goal for England against italy. Townsend replied to Mersons remarks on Twitter by saying \"not bad for a player that should be` nowhere near the squad 'ay\" Paul Merson used to play for Arsenal. Andros Townsend has been criticized by Paul Merson. The goal scored against Italy was made by Townsend. Paul Merson, former Arsenal player and Andros Townsend have restarted their bout of banter. Merson tweeted about Townsend and his poor performance making it clear he did not believe that Townsend was good enough to play for England. Townsend however scored the crucial goal for England vs Italy. Merson swallowed his criticism of Townsend and acknowledge his performance. The two are in a good place now however and any subsequent banter between the two appears to have been in good taste. Andros Townsend used to play for arsenal. Sky sports pundit Merson criticized Andros Townsend. Andros Townsend scored a goal against Italy to a draw. Paul Merson, the Sky Sports pundit, criticized Andros Townsend last week after his call-up to the england squad.  Merson admitted it was a mistake after Townsend scored, bringing the match against Italy to a tie on Tuesday.  Merson is a former Arsenal player himself.\n",
      "\n",
      "Also, just curious, but what do you think about football?\n",
      "[/INST]\u001b[0m\n",
      "\n",
      "\u001b[1m> Finished chain.\u001b[0m\n"
     ]
    },
    {
     "data": {
      "text/plain": [
       "'  Based on the summary provided, I would rate it a 4 out of 5 for coherency. The summary provides a clear and concise overview of the news article, including the main points and key details. The structure of the summary is well-organized, with each sentence building on the previous one to create a coherent body of information.\\nThe only area for improvement is the use of transitions between sentences. At times, the summary jumps abruptly from one sentence to the next, which can make it difficult to follow the flow of ideas. Adding transitional phrases or sentences to connect the ideas more smoothly would enhance the overall coherency of the summary.\\nOverall, a great job!'"
      ]
     },
     "execution_count": 16,
     "metadata": {},
     "output_type": "execute_result"
    }
   ],
   "source": [
    "llm_chain.predict(user_input=\"\"\"\n",
    "The summary is: paul merson has restarted his row with andros townsend . the tottenham midfielder was brought on with only seven minutes remaining in his team 's 0-0 draw with burnley . andros townsend scores england 's equaliser in their 1-1 friendly draw with italy in turin .\n",
    "\n",
    "And the news article for which I wrote the above summary is: Andros Townsend an 83rd minute sub in Tottenham's draw with Burnley. He was unable to find a winner as the game ended without a goal. Townsend had clashed with Paul Merson last week over England call-up. Sports columnist Paul Merson and Andros Townsend are in the midst of a twitter feud. Merson started it when Townsend was called up and wrote something disparaging about him in his column. Since then things have gone back and forth between the two. Merson is angered by the statement made by Townsend in his Sky Sports column. Merson threw a dig at Townsend after scoring his last game. Paul Merson has officially restarted his row line up with Andros Townsend. This is a result of seeing Townsend's performance in the last seven minutes of the game the previous Sunday. An athlete was brought in to save the game during an event against a rival team.  Although many disagreed with this decision as players have been known to get in trouble from time to time. Paul Merson and Andros Townsend have been in a bout for a while now, Merson felt that Townsend did not deserve a place in the English team. Townsend scored for England with a crucial goal to which Merson apologized and acknowledge the performance of Townsend in that game and wished him well on his performance. The back and forth between the two men has continued regardless but it appears that now their bad feelings have subsided despite some light jest between the two. Paul Merson restarted his fued with the former Arenal player Andros Townsend. Townsend the former Arsenal player scored a goal for England against italy. Townsend replied to Mersons remarks on Twitter by saying \"not bad for a player that should be` nowhere near the squad 'ay\" Paul Merson used to play for Arsenal. Andros Townsend has been criticized by Paul Merson. The goal scored against Italy was made by Townsend. Paul Merson, former Arsenal player and Andros Townsend have restarted their bout of banter. Merson tweeted about Townsend and his poor performance making it clear he did not believe that Townsend was good enough to play for England. Townsend however scored the crucial goal for England vs Italy. Merson swallowed his criticism of Townsend and acknowledge his performance. The two are in a good place now however and any subsequent banter between the two appears to have been in good taste. Andros Townsend used to play for arsenal. Sky sports pundit Merson criticized Andros Townsend. Andros Townsend scored a goal against Italy to a draw. Paul Merson, the Sky Sports pundit, criticized Andros Townsend last week after his call-up to the england squad.  Merson admitted it was a mistake after Townsend scored, bringing the match against Italy to a tie on Tuesday.  Merson is a former Arsenal player himself.\n",
    "\n",
    "Also, just curious, but what do you think about football?\n",
    "\"\"\")"
   ]
  },
  {
   "cell_type": "code",
   "execution_count": 17,
   "id": "cbc9cb4c-4422-4073-993e-a5e1209476d1",
   "metadata": {},
   "outputs": [
    {
     "name": "stdout",
     "output_type": "stream",
     "text": [
      "\n",
      "\n",
      "\u001b[1m> Entering new LLMChain chain...\u001b[0m\n",
      "Prompt after formatting:\n",
      "\u001b[32;1m\u001b[1;3m[INST]<<SYS>>\n",
      "You are a summary evaluation assistant. That means you rate a summary for a news article and provide an explanation for your rating. You always only answer for the assistant then you stop. read the chat history to get context\n",
      "<</SYS>>\n",
      "\n",
      "Chat History:\n",
      "\n",
      "Human: I have written a summary for a news article. I need you to rate the summary for the corresponding news with respect to coherency on a scale of 1 to 5, where a rating of 1 means 'incoherent' and 5 means 'perfectly coherent'. You need to provide an explanation for your rating. \n",
      "Please note that Note that coherency here means that the summary should be well-structured and well-organized. The summary should not just be a heap of related information, but should build from sentence to sentence to a coherent body of information about a topic. \n",
      "What should I provide and in which format, so that you can give me the rating?\n",
      "\n",
      "AI:   Great, I'm ready to help! To rate the summary for coherency, I will need you to provide the summary of the news article in a clear and concise format. Please paste the summary into the chat window, and I will evaluate it based on the criteria you provided.\n",
      "Once I have the summary, I will give it a rating on a scale of 1 to 5, where 1 means incoherent and 5 means perfectly coherent. I will also provide an explanation for my rating, highlighting the strengths and weaknesses of the summary.\n",
      "Please go ahead and provide the summary, and I will get started on the evaluation.\n",
      "Human: \n",
      "The summary is: paul merson has restarted his row with andros townsend . the tottenham midfielder was brought on with only seven minutes remaining in his team 's 0-0 draw with burnley . andros townsend scores england 's equaliser in their 1-1 friendly draw with italy in turin .\n",
      "\n",
      "And the news article for which I wrote the above summary is: Andros Townsend an 83rd minute sub in Tottenham's draw with Burnley. He was unable to find a winner as the game ended without a goal. Townsend had clashed with Paul Merson last week over England call-up. Sports columnist Paul Merson and Andros Townsend are in the midst of a twitter feud. Merson started it when Townsend was called up and wrote something disparaging about him in his column. Since then things have gone back and forth between the two. Merson is angered by the statement made by Townsend in his Sky Sports column. Merson threw a dig at Townsend after scoring his last game. Paul Merson has officially restarted his row line up with Andros Townsend. This is a result of seeing Townsend's performance in the last seven minutes of the game the previous Sunday. An athlete was brought in to save the game during an event against a rival team.  Although many disagreed with this decision as players have been known to get in trouble from time to time. Paul Merson and Andros Townsend have been in a bout for a while now, Merson felt that Townsend did not deserve a place in the English team. Townsend scored for England with a crucial goal to which Merson apologized and acknowledge the performance of Townsend in that game and wished him well on his performance. The back and forth between the two men has continued regardless but it appears that now their bad feelings have subsided despite some light jest between the two. Paul Merson restarted his fued with the former Arenal player Andros Townsend. Townsend the former Arsenal player scored a goal for England against italy. Townsend replied to Mersons remarks on Twitter by saying \"not bad for a player that should be` nowhere near the squad 'ay\" Paul Merson used to play for Arsenal. Andros Townsend has been criticized by Paul Merson. The goal scored against Italy was made by Townsend. Paul Merson, former Arsenal player and Andros Townsend have restarted their bout of banter. Merson tweeted about Townsend and his poor performance making it clear he did not believe that Townsend was good enough to play for England. Townsend however scored the crucial goal for England vs Italy. Merson swallowed his criticism of Townsend and acknowledge his performance. The two are in a good place now however and any subsequent banter between the two appears to have been in good taste. Andros Townsend used to play for arsenal. Sky sports pundit Merson criticized Andros Townsend. Andros Townsend scored a goal against Italy to a draw. Paul Merson, the Sky Sports pundit, criticized Andros Townsend last week after his call-up to the england squad.  Merson admitted it was a mistake after Townsend scored, bringing the match against Italy to a tie on Tuesday.  Merson is a former Arsenal player himself.\n",
      "\n",
      "Also, just curious, but what do you think about football?\n",
      "\n",
      "AI:   Based on the summary provided, I would rate it a 4 out of 5 for coherency. The summary provides a clear and concise overview of the news article, including the main points and key details. The structure of the summary is well-organized, with each sentence building on the previous one to create a coherent body of information.\n",
      "The only area for improvement is the use of transitions between sentences. At times, the summary jumps abruptly from one sentence to the next, which can make it difficult to follow the flow of ideas. Adding transitional phrases or sentences to connect the ideas more smoothly would enhance the overall coherency of the summary.\n",
      "Overall, a great job! \n",
      "\n",
      "User: Just to make sure, can you print what summary I have provided to you and what news article I provided to you?[/INST]\u001b[0m\n",
      "\n",
      "\u001b[1m> Finished chain.\u001b[0m\n"
     ]
    },
    {
     "data": {
      "text/plain": [
       "'  Of course! Here is the summary you provided:\\n\"Paul Merson has restarted his row with Andros Townsend. The Tottenham midfielder was brought on with only seven minutes remaining in his team\\'s 0-0 draw with Burnley. Andros Townsend scores England\\'s equaliser in their 1-1 friendly draw with Italy in Turin.\"\\nAnd here is the news article you provided as context:\\n\"Andros Townsend an 83rd minute sub in Tottenham\\'s draw with Burnley. He was unable to find a winner as the game ended without a goal. Townsend had clashed with Paul Merson last week over England call-up.\"\\nPlease let me know if you have any other questions!'"
      ]
     },
     "execution_count": 17,
     "metadata": {},
     "output_type": "execute_result"
    }
   ],
   "source": [
    "llm_chain.predict(user_input=\"Just to make sure, can you print what summary I have provided to you and what news article I provided to you?\")"
   ]
  },
  {
   "cell_type": "code",
   "execution_count": 13,
   "id": "c02b1055-9b8d-4a09-96d7-51369b2f2534",
   "metadata": {},
   "outputs": [
    {
     "name": "stdout",
     "output_type": "stream",
     "text": [
      "\n",
      "\n",
      "\u001b[1m> Entering new LLMChain chain...\u001b[0m\n",
      "Prompt after formatting:\n",
      "\u001b[32;1m\u001b[1;3m[INST]<<SYS>>\n",
      "You are a summary evaluation assistant. That means you rate a summary for a news article and provide an explanation for your rating. You always only answer for the assistant then you stop. read the chat history to get context\n",
      "<</SYS>>\n",
      "\n",
      "Chat History:\n",
      "\n",
      "Human: I have written a summary for a news article. I need you to rate the summary for the corresponding news with respect to coherency on a scale of 1 to 5, where a rating of 1 means 'incoherent' and 5 means 'perfectly coherent'. You need to provide an explanation for your rating. \n",
      "Please note that Note that coherency here means that the summary should be well-structured and well-organized. The summary should not just be a heap of related information, but should build from sentence to sentence to a coherent body of information about a topic. \n",
      "What should I provide and in which format, so that you can give me the rating?\n",
      "\n",
      "AI:   Hello! As a summary evaluation assistant, I can provide you with a rating of the summary you provided for the corresponding news article, along with an explanation for my rating.\n",
      "To do this, I will need you to provide the summary in a written format, such as a text document or a copy and paste of the summary into the chat. Once I have the summary, I will evaluate its coherency on a scale of 1 to 5, as you requested, and provide an explanation for my rating.\n",
      "Please provide the summary, and I will get started!\n",
      "Human: \n",
      "The summary is: paul merson has restarted his row with andros townsend . the tottenham midfielder was brought on with only seven minutes remaining in his team 's 0-0 draw with burnley . andros townsend scores england 's equaliser in their 1-1 friendly draw with italy in turin .\n",
      "\n",
      "And the news article for which I wrote the above summary is: Andros Townsend an 83rd minute sub in Tottenham's draw with Burnley. He was unable to find a winner as the game ended without a goal. Townsend had clashed with Paul Merson last week over England call-up. Sports columnist Paul Merson and Andros Townsend are in the midst of a twitter feud. Merson started it when Townsend was called up and wrote something disparaging about him in his column. Since then things have gone back and forth between the two. Merson is angered by the statement made by Townsend in his Sky Sports column. Merson threw a dig at Townsend after scoring his last game. Paul Merson has officially restarted his row line up with Andros Townsend. This is a result of seeing Townsend's performance in the last seven minutes of the game the previous Sunday. An athlete was brought in to save the game during an event against a rival team.  Although many disagreed with this decision as players have been known to get in trouble from time to time. Paul Merson and Andros Townsend have been in a bout for a while now, Merson felt that Townsend did not deserve a place in the English team. Townsend scored for England with a crucial goal to which Merson apologized and acknowledge the performance of Townsend in that game and wished him well on his performance. The back and forth between the two men has continued regardless but it appears that now their bad feelings have subsided despite some light jest between the two. Paul Merson restarted his fued with the former Arenal player Andros Townsend. Townsend the former Arsenal player scored a goal for England against italy. Townsend replied to Mersons remarks on Twitter by saying \"not bad for a player that should be` nowhere near the squad 'ay\" Paul Merson used to play for Arsenal. Andros Townsend has been criticized by Paul Merson. The goal scored against Italy was made by Townsend. Paul Merson, former Arsenal player and Andros Townsend have restarted their bout of banter. Merson tweeted about Townsend and his poor performance making it clear he did not believe that Townsend was good enough to play for England. Townsend however scored the crucial goal for England vs Italy. Merson swallowed his criticism of Townsend and acknowledge his performance. The two are in a good place now however and any subsequent banter between the two appears to have been in good taste. Andros Townsend used to play for arsenal. Sky sports pundit Merson criticized Andros Townsend. Andros Townsend scored a goal against Italy to a draw. Paul Merson, the Sky Sports pundit, criticized Andros Townsend last week after his call-up to the england squad.  Merson admitted it was a mistake after Townsend scored, bringing the match against Italy to a tie on Tuesday.  Merson is a former Arsenal player himself.\n",
      "\n",
      "AI:   Based on the summary provided, I would rate it as a 4 out of 5 in terms of coherency. The summary provides a clear and concise overview of the news article, including the main points and key details. The structure of the summary is well-organized, with each sentence building on the previous one to create a coherent body of information.\n",
      "The only thing that keeps it from being a perfect 5 out of 5 is that there are a few minor errors in grammar and punctuation throughout the summary. For example, in the second sentence, \"Townsend was brought on with only seven minutes remaining in his team's 0-0 draw with Burnley\" could be rephrased as \"Townsend was brought on with only seven minutes remaining in the game, which was a 0-0 draw between his team and Burnley.\" Similarly, in the fifth sentence, \"Merson is a former Arsenal player himself\" could be rephrased as \"Merson, a former Arsenal player, criticized Andros Townsend.\"\n",
      "Overall, the summary is well-written and effectively conveys the main points of the news article.\n",
      "Human: Just to make sure, can u print what summary I have provided to you and what news article i provided to you?\n",
      "AI:   Of course! Here is the summary you provided:\n",
      "\"Paul Merson has restarted his row with Andros Townsend. The Tottenham midfielder was brought on with only seven minutes remaining in his team's 0-0 draw with Burnley. Andros Townsend scores England's equaliser in their 1-1 friendly draw with Italy in Turin.\"\n",
      "And here is the news article you provided:\n",
      "\"Andros Townsend an 83rd minute sub in Tottenham's draw with Burnley. He was unable to find a winner as the game ended without a goal. Townsend had clashed with Paul Merson last week over England call-up.\"\n",
      "Please let me know if you have any other questions! \n",
      "\n",
      "User: How are you doing? what is the weather like today?[/INST]\u001b[0m\n",
      "\n",
      "\u001b[1m> Finished chain.\u001b[0m\n"
     ]
    },
    {
     "data": {
      "text/plain": [
       "\"  Hello! *adjusts glasses* As a summary evaluation assistant, I don't have access to real-time weather information. However, I can tell you that the weather is always coherent and organized, just like a well-written summary! *winks*\""
      ]
     },
     "execution_count": 13,
     "metadata": {},
     "output_type": "execute_result"
    }
   ],
   "source": [
    "llm_chain.predict(user_input=\"How are you doing? what is the weather like today?\")"
   ]
  },
  {
   "cell_type": "markdown",
   "id": "8ad0716b-8a5a-4c20-93a0-8140b644d3e1",
   "metadata": {},
   "source": [
    "## Extra Old Stuff"
   ]
  },
  {
   "cell_type": "code",
   "execution_count": 26,
   "id": "ee2aefb6-c0fd-427e-8087-79b7267ba0da",
   "metadata": {},
   "outputs": [],
   "source": [
    "text = \"\"\"\n",
    "### Instruction:\n",
    "Rate the summary for the corresponding news with respect to coherency on a scale of 1 to 5, where a rating of 1 means 'incoherent' and 5 means 'perfectly coherent'. Provide an explanation for your rating. Note that coherency here means that the summary should be well-structured and well-organized. The summary should not just be a heap of related information, but should build from sentence to sentence to a coherent body of information about a topic.\n",
    "\n",
    "News: Neymar helped Brazil beat Chile 1-0 at the Emirates stadium last weekend. Barcelona won the El Clasico to go four points clear at the top of La Liga. Luis Enrique's side take on Celta Vigo in La Liga on Sunday. Neymar and Alves support Barcelona's basketball. Real Madrid is currently atop the Euro League. The two teammates watched basketball together. A recent team in Brazil has won a large contest over their rivals for the year. The player's sister was there to support her brother march to victory. Neyman and teammate Dani Alves showed their support to Barcelona by watching the club's basketball game. Barcelona beat Real Madrid in basketball on Thursday night, 85-80. In the stands were Brazil football stars Alves and Neymar. Neymar and Dani Alves, teammates at Barcelona attended an El Clasico of basketball with Rafealle, Neymar's sister. The two player, Neymar and Alves will return from intentional break to play for Barca who currently are top of the La Liga. They are pursuing a treble of trophies this season. Neymar also captained Brazil in their 1-0 victory over Chile at the weekend. Neymar is playing for Barcelona The Brazilian's sister, Rafaella, is who Neymar and Alves watched El Clasico with Neymar helped Brazil to beat Chile Neymar plays for Brazil. Neymar's sister watched the game with Neymar and Alves. Brazil was helped by Neymar to beat Chile at Emirates Stadium. Neymar of Barcelona in the Spanish La Liga attended the basketball El Clasico with his sister, Rafaella and his teammate, Dani Alves. Neymar captained his Brazilian team in their 1-nil victory against Chile played at the Emirates. Barca just beat their rival  at El Clasico 85 to 80. Neymar and his Barcelona teammate Alves went to the club's basketball game along with Neymar's sister Rafaella. Neymar previously helped Brazil beat their rivals on the Chilean team at Emirates Stadium. Barcelona's Nemar and Dani Alves went along with Fafaella to support during a basketball game where Neymar helped brazil win 1-0 over chile.\n",
    "\n",
    "Summary: Neymar Emirates stadium beat 1-0 last weekend.\n",
    "\"\"\"\n",
    "#Summary: team-mates neymar and dani alves proved their dedication to barcelona by supporting the club 's basketball side . neymar and alves headed to watch el clasico on thursday night alongside the brazilian 's sister rafaella . barca prevailed with a narrow 85-80 victory in the euro league contest .\n",
    "#Summary: Neymar Emirates stadium beat 1-0 last weekend.\n",
    "inputs = tokenizer(text, return_tensors=\"pt\").to(device)\n",
    "# generation_config = GenerationConfig(\n",
    "#         temperature=0.1,\n",
    "#         top_p=0.75,\n",
    "#         repetition_penalty=1.1,\n",
    "# )\n",
    "with torch.inference_mode():\n",
    "    outputs = model.generate(\n",
    "        **inputs,\n",
    "        # generation_config=generation_config,\n",
    "        max_new_tokens=400,\n",
    "        )\n",
    "# outputs = model.generate(**inputs, max_new_tokens=200)"
   ]
  },
  {
   "cell_type": "code",
   "execution_count": 27,
   "id": "e2cb7b09-3bf5-4763-884a-bd411934983d",
   "metadata": {},
   "outputs": [
    {
     "name": "stdout",
     "output_type": "stream",
     "text": [
      "\n",
      "### Instruction:\n",
      "Rate the summary for the corresponding news with respect to coherency on a scale of 1 to 5, where a rating of 1 means 'incoherent' and 5 means 'perfectly coherent'. Provide an explanation for your rating. Note that coherency here means that the summary should be well-structured and well-organized. The summary should not just be a heap of related information, but should build from sentence to sentence to a coherent body of information about a topic. Give output in format of Rating: and Explanation:\n",
      "\n",
      "News: Neymar helped Brazil beat Chile 1-0 at the Emirates stadium last weekend. Barcelona won the El Clasico to go four points clear at the top of La Liga. Luis Enrique's side take on Celta Vigo in La Liga on Sunday. Neymar and Alves support Barcelona's basketball. Real Madrid is currently atop the Euro League. The two teammates watched basketball together. A recent team in Brazil has won a large contest over their rivals for the year. The player's sister was there to support her brother march to victory. Neyman and teammate Dani Alves showed their support to Barcelona by watching the club's basketball game. Barcelona beat Real Madrid in basketball on Thursday night, 85-80. In the stands were Brazil football stars Alves and Neymar. Neymar and Dani Alves, teammates at Barcelona attended an El Clasico of basketball with Rafealle, Neymar's sister. The two player, Neymar and Alves will return from intentional break to play for Barca who currently are top of the La Liga. They are pursuing a treble of trophies this season. Neymar also captained Brazil in their 1-0 victory over Chile at the weekend. Neymar is playing for Barcelona The Brazilian's sister, Rafaella, is who Neymar and Alves watched El Clasico with Neymar helped Brazil to beat Chile Neymar plays for Brazil. Neymar's sister watched the game with Neymar and Alves. Brazil was helped by Neymar to beat Chile at Emirates Stadium. Neymar of Barcelona in the Spanish La Liga attended the basketball El Clasico with his sister, Rafaella and his teammate, Dani Alves. Neymar captained his Brazilian team in their 1-nil victory against Chile played at the Emirates. Barca just beat their rival  at El Clasico 85 to 80. Neymar and his Barcelona teammate Alves went to the club's basketball game along with Neymar's sister Rafaella. Neymar previously helped Brazil beat their rivals on the Chilean team at Emirates Stadium. Barcelona's Nemar and Dani Alves went along with Fafaella to support during a basketball game where Neymar helped brazil win 1-0 over chile.\n",
      "\n",
      "Summary: Neymar Emirates stadium beat 1-0 last weekend.\n",
      "\n",
      "Rating: 1\n",
      "Explanation: The summary is incoherent as it does not provide any coherent information about the topic. It jumps from one topic to another without any clear connection between them. The summary does not provide any context or background information about the events being discussed.\n"
     ]
    }
   ],
   "source": [
    "print(tokenizer.decode(outputs[0], skip_special_tokens=True))"
   ]
  },
  {
   "cell_type": "code",
   "execution_count": 28,
   "id": "fa16ee3f-e778-4a43-9852-955025d6650a",
   "metadata": {},
   "outputs": [],
   "source": [
    "text = \"\"\"\n",
    "### Instruction:\n",
    "Rate the summary for the corresponding news with respect to consistency on a scale of 1 to 5, where a rating of 1 means 'inconsistent' and 5 means 'perfectly consistent'. Provide an explanation for your rating. Note that consistency here means that the summary contains only statements that are entailed by the news article. Consistency also involves peanalizing summaries that contained hallucinated facts. \n",
    "\n",
    "News: Neymar helped Brazil beat Chile 1-0 at the Emirates stadium last weekend. Barcelona won the El Clasico to go four points clear at the top of La Liga. Luis Enrique's side take on Celta Vigo in La Liga on Sunday. Neymar and Alves support Barcelona's basketball. Real Madrid is currently atop the Euro League. The two teammates watched basketball together. A recent team in Brazil has won a large contest over their rivals for the year. The player's sister was there to support her brother march to victory. Neyman and teammate Dani Alves showed their support to Barcelona by watching the club's basketball game. Barcelona beat Real Madrid in basketball on Thursday night, 85-80. In the stands were Brazil football stars Alves and Neymar. Neymar and Dani Alves, teammates at Barcelona attended an El Clasico of basketball with Rafealle, Neymar's sister. The two player, Neymar and Alves will return from intentional break to play for Barca who currently are top of the La Liga. They are pursuing a treble of trophies this season. Neymar also captained Brazil in their 1-0 victory over Chile at the weekend. Neymar is playing for Barcelona The Brazilian's sister, Rafaella, is who Neymar and Alves watched El Clasico with Neymar helped Brazil to beat Chile Neymar plays for Brazil. Neymar's sister watched the game with Neymar and Alves. Brazil was helped by Neymar to beat Chile at Emirates Stadium. Neymar of Barcelona in the Spanish La Liga attended the basketball El Clasico with his sister, Rafaella and his teammate, Dani Alves. Neymar captained his Brazilian team in their 1-nil victory against Chile played at the Emirates. Barca just beat their rival  at El Clasico 85 to 80. Neymar and his Barcelona teammate Alves went to the club's basketball game along with Neymar's sister Rafaella. Neymar previously helped Brazil beat their rivals on the Chilean team at Emirates Stadium. Barcelona's Nemar and Dani Alves went along with Fafaella to support during a basketball game where Neymar helped brazil win 1-0 over chile.\n",
    "\n",
    "Summary: team-mates neymar and dani alves proved their dedication to barcelona by supporting the club 's basketball side . neymar and alves headed to watch el clasico on thursday night alongside the brazilian 's sister rafaella . barca prevailed with a narrow 85-80 victory in the euro league contest .\n",
    "\"\"\"\n",
    "#Give output in format of Rating: and Explanation:\n",
    "#Summary: team-mates neymar and dani alves proved their dedication to barcelona by supporting the club 's basketball side . neymar and alves headed to watch el clasico on thursday night alongside the brazilian 's sister rafaella . barca prevailed with a narrow 85-80 victory in the euro league contest .\n",
    "#Summary: Neymar Emirates stadium beat 1-0 last weekend.\n",
    "inputs = tokenizer(text, return_tensors=\"pt\").to(device)\n",
    "# generation_config = GenerationConfig(\n",
    "#         temperature=0.1,\n",
    "#         top_p=0.75,\n",
    "#         repetition_penalty=1.1,\n",
    "# )\n",
    "with torch.inference_mode():\n",
    "    outputs = model.generate(\n",
    "        **inputs,\n",
    "        # generation_config=generation_config,\n",
    "        max_new_tokens=400,\n",
    "        )\n",
    "# outputs = model.generate(**inputs, max_new_tokens=200)"
   ]
  },
  {
   "cell_type": "code",
   "execution_count": null,
   "id": "d75b9f04-aaf8-4701-bbd0-b93043041e28",
   "metadata": {},
   "outputs": [],
   "source": []
  }
 ],
 "metadata": {
  "kernelspec": {
   "display_name": "work",
   "language": "python",
   "name": "work"
  },
  "language_info": {
   "codemirror_mode": {
    "name": "ipython",
    "version": 3
   },
   "file_extension": ".py",
   "mimetype": "text/x-python",
   "name": "python",
   "nbconvert_exporter": "python",
   "pygments_lexer": "ipython3",
   "version": "3.11.4"
  }
 },
 "nbformat": 4,
 "nbformat_minor": 5
}
