{
 "cells": [
  {
   "cell_type": "markdown",
   "metadata": {},
   "source": [
    "### Downloading Dataset from HF"
   ]
  },
  {
   "cell_type": "code",
   "execution_count": 1,
   "metadata": {},
   "outputs": [
    {
     "name": "stderr",
     "output_type": "stream",
     "text": [
      "/home/harshit-g/miniconda3/lib/python3.11/site-packages/tqdm/auto.py:21: TqdmWarning: IProgress not found. Please update jupyter and ipywidgets. See https://ipywidgets.readthedocs.io/en/stable/user_install.html\n",
      "  from .autonotebook import tqdm as notebook_tqdm\n",
      "Downloading builder script: 100%|██████████| 3.83k/3.83k [00:00<00:00, 20.8MB/s]\n",
      "Downloading metadata: 100%|██████████| 2.82k/2.82k [00:00<00:00, 13.8MB/s]\n",
      "Downloading readme: 100%|██████████| 10.6k/10.6k [00:00<00:00, 22.6MB/s]\n",
      "Downloading data: 100%|██████████| 548M/548M [00:53<00:00, 10.3MB/s]\n",
      "Downloading data: 100%|██████████| 58.8M/58.8M [00:06<00:00, 9.07MB/s]\n",
      "Downloading data: 100%|██████████| 66.9M/66.9M [00:07<00:00, 9.11MB/s]\n",
      "Downloading data: 100%|██████████| 7.30M/7.30M [00:01<00:00, 4.18MB/s]\n",
      "Downloading data: 100%|██████████| 69.0M/69.0M [00:17<00:00, 3.87MB/s]\n",
      "Downloading data: 100%|██████████| 7.31M/7.31M [00:00<00:00, 9.86MB/s]\n",
      "Downloading data files: 100%|██████████| 3/3 [01:41<00:00, 33.80s/it]\n",
      "Generating train split: 100%|██████████| 44972/44972 [00:02<00:00, 19747.53 examples/s]\n",
      "Generating validation split: 100%|██████████| 5622/5622 [00:00<00:00, 20398.41 examples/s]\n",
      "Generating test split: 100%|██████████| 5622/5622 [00:00<00:00, 20324.02 examples/s]\n"
     ]
    }
   ],
   "source": [
    "#loading from hugging face datasets\n",
    "from datasets import load_dataset\n",
    "dataset = load_dataset(\"multi_news\")"
   ]
  },
  {
   "cell_type": "code",
   "execution_count": 9,
   "metadata": {},
   "outputs": [
    {
     "name": "stdout",
     "output_type": "stream",
     "text": [
      "Train data saved to train.csv\n",
      "Validation data saved to validation.csv\n",
      "Test data saved to test.csv\n"
     ]
    }
   ],
   "source": [
    "import pandas as pd\n",
    "\n",
    "#convert the train, validation, and test splits to DataFrames\n",
    "train_df = pd.DataFrame({'document': dataset['train']['document'], 'summary': dataset['train']['summary']})\n",
    "validation_df = pd.DataFrame({'document': dataset['validation']['document'], 'summary': dataset['validation']['summary']})\n",
    "test_df = pd.DataFrame({'document': dataset['test']['document'], 'summary': dataset['test']['summary']})\n",
    "\n",
    "#file paths to save the CSV files\n",
    "train_csv_path = 'train.csv'\n",
    "validation_csv_path = 'validation.csv'\n",
    "test_csv_path = 'test.csv'\n",
    "train_df.to_csv(train_csv_path, index=False)\n",
    "validation_df.to_csv(validation_csv_path, index=False)\n",
    "test_df.to_csv(test_csv_path, index=False)\n",
    "\n",
    "print(f\"Train data saved to {train_csv_path}\")\n",
    "print(f\"Validation data saved to {validation_csv_path}\")\n",
    "print(f\"Test data saved to {test_csv_path}\")"
   ]
  },
  {
   "cell_type": "markdown",
   "metadata": {},
   "source": [
    "### Converting Data To Suitable Format"
   ]
  },
  {
   "cell_type": "code",
   "execution_count": 10,
   "metadata": {},
   "outputs": [],
   "source": [
    "#function to split documents and calculate length\n",
    "def split_and_count(documents):\n",
    "    #split documents by the delimiter and strip whitespace\n",
    "    documents_list = [doc.strip() for doc in documents.split(\"|||||\")]\n",
    "    #calculate the length of the list\n",
    "    num_documents = len(documents_list)\n",
    "    return documents_list, num_documents"
   ]
  },
  {
   "cell_type": "code",
   "execution_count": 11,
   "metadata": {},
   "outputs": [
    {
     "name": "stdout",
     "output_type": "stream",
     "text": [
      "Train data saved to multi_news/train.csv\n",
      "Validation data saved to multi_news/validation.csv\n",
      "Test data saved to multi_news/test.csv\n"
     ]
    }
   ],
   "source": [
    "#split_and_count function to the train, validation, and test splits\n",
    "train_df['documents'], train_df['num_documents'] = zip(*train_df['document'].map(split_and_count))\n",
    "validation_df['documents'], validation_df['num_documents'] = zip(*validation_df['document'].map(split_and_count))\n",
    "test_df['documents'], test_df['num_documents'] = zip(*test_df['document'].map(split_and_count))\n",
    "\n",
    "#drop the original \"document\" column\n",
    "train_df.drop(columns=['document'], inplace=True)\n",
    "validation_df.drop(columns=['document'], inplace=True)\n",
    "test_df.drop(columns=['document'], inplace=True)\n",
    "\n",
    "train_df = train_df[['documents', 'num_documents', 'summary']]\n",
    "validation_df = validation_df[['documents', 'num_documents', 'summary']]\n",
    "test_df = test_df[['documents', 'num_documents', 'summary']]\n",
    "\n",
    "#define file paths for CSV files\n",
    "train_csv_path = 'multi_news/train.csv'\n",
    "validation_csv_path = 'multi_news/validation.csv'\n",
    "test_csv_path = 'multi_news/test.csv'\n",
    "\n",
    "#save the modified DataFrames as CSV files\n",
    "train_df.to_csv(train_csv_path, index=False)\n",
    "validation_df.to_csv(validation_csv_path, index=False)\n",
    "test_df.to_csv(test_csv_path, index=False)\n",
    "\n",
    "print(f\"Train data saved to {train_csv_path}\")\n",
    "print(f\"Validation data saved to {validation_csv_path}\")\n",
    "print(f\"Test data saved to {test_csv_path}\")"
   ]
  },
  {
   "cell_type": "markdown",
   "metadata": {},
   "source": [
    "### Sample File Generation"
   ]
  },
  {
   "cell_type": "code",
   "execution_count": 2,
   "metadata": {},
   "outputs": [],
   "source": [
    "import pandas as pd\n",
    "\n",
    "#defining the file paths for the original CSV files\n",
    "train_csv_path = 'train.csv'\n",
    "validation_csv_path = 'validation.csv'\n",
    "test_csv_path = 'test.csv'\n",
    "\n",
    "train_df = pd.read_csv(train_csv_path)\n",
    "validation_df = pd.read_csv(validation_csv_path)\n",
    "test_df = pd.read_csv(test_csv_path)\n",
    "    "
   ]
  },
  {
   "cell_type": "code",
   "execution_count": 3,
   "metadata": {},
   "outputs": [],
   "source": [
    "import random\n",
    "import ast\n",
    "\n",
    "random_train = []\n",
    "random_validation = []\n",
    "random_test = []\n",
    "\n",
    "for i in train_df['documents']:\n",
    "    docs = ast.literal_eval(i)\n",
    "    random_item = random.choice(docs)\n",
    "    random_train.append(random_item)\n",
    "    \n",
    "for i in validation_df['documents']:\n",
    "    docs = ast.literal_eval(i)\n",
    "    random_item = random.choice(docs)\n",
    "    random_validation.append(random_item)\n",
    "    \n",
    "for i in test_df['documents']:\n",
    "    docs = ast.literal_eval(i)\n",
    "    random_item = random.choice(docs)\n",
    "    random_test.append(random_item)"
   ]
  },
  {
   "cell_type": "code",
   "execution_count": 4,
   "metadata": {},
   "outputs": [
    {
     "name": "stdout",
     "output_type": "stream",
     "text": [
      "44972\n",
      "5622\n",
      "5622\n"
     ]
    }
   ],
   "source": [
    "modified_train_rows = []\n",
    "modified_validation_rows = []\n",
    "modified_test_rows = []\n",
    "\n",
    "for _, row in train_df.iterrows():\n",
    "    document_list = ast.literal_eval(row['documents'])\n",
    "    row_index = row.name #get the index of the row\n",
    "    valid_indices = [i for i in range(len(random_train)) if i != row_index]\n",
    "    random_indices = random.sample(valid_indices, 2)\n",
    "    # Extract the corresponding summaries from random_train\n",
    "    random_summaries = [random_train[i] for i in random_indices]\n",
    "    #append the random summaries to the document list\n",
    "    document_list.extend(random_summaries)\n",
    "    #save to modified_train_rows\n",
    "    modified_train_rows.append({'documents': document_list, 'num_documents': len(document_list), 'summary': row['summary']})\n",
    "    \n",
    "print(len(modified_train_rows))\n",
    "\n",
    "for _, row in validation_df.iterrows():\n",
    "    document_list = ast.literal_eval(row['documents'])\n",
    "    row_index = row.name #get the index of the row\n",
    "    valid_indices = [i for i in range(len(random_validation)) if i != row_index]\n",
    "    random_indices = random.sample(valid_indices, 2)\n",
    "    # Extract the corresponding summaries from random_validation\n",
    "    random_summaries = [random_validation[i] for i in random_indices]\n",
    "    #append the random summaries to the document list\n",
    "    document_list.extend(random_summaries)\n",
    "    #save to modified_validation_rows\n",
    "    modified_validation_rows.append({'documents': document_list, 'num_documents': len(document_list), 'summary': row['summary']})\n",
    "    \n",
    "print(len(modified_validation_rows))\n",
    "\n",
    "for _, row in test_df.iterrows():\n",
    "    document_list = ast.literal_eval(row['documents'])\n",
    "    row_index = row.name #get the index of the row\n",
    "    valid_indices = [i for i in range(len(random_test)) if i != row_index]\n",
    "    random_indices = random.sample(valid_indices, 2)\n",
    "    # Extract the corresponding summaries from random_test\n",
    "    random_summaries = [random_test[i] for i in random_indices]\n",
    "    #append the random summaries to the document list\n",
    "    document_list.extend(random_summaries)\n",
    "    #save to modified_test_rows\n",
    "    modified_test_rows.append({'documents': document_list, 'num_documents': len(document_list), 'summary': row['summary']})\n",
    "    \n",
    "print(len(modified_test_rows))\n",
    "\n",
    "modified_train_df = pd.DataFrame(modified_train_rows)\n",
    "modified_validation_df = pd.DataFrame(modified_validation_rows)\n",
    "modified_test_df = pd.DataFrame(modified_test_rows)\n",
    "    "
   ]
  },
  {
   "cell_type": "code",
   "execution_count": 5,
   "metadata": {},
   "outputs": [],
   "source": [
    "#save the modified DataFrames as CSV files\n",
    "modified_train_df.to_csv('modified_train.csv', index=False)\n",
    "modified_validation_df.to_csv('modified_validation.csv', index=False)\n",
    "modified_test_df.to_csv('modified_test.csv', index=False)"
   ]
  },
  {
   "cell_type": "code",
   "execution_count": 6,
   "metadata": {},
   "outputs": [
    {
     "data": {
      "text/html": [
       "<div>\n",
       "<style scoped>\n",
       "    .dataframe tbody tr th:only-of-type {\n",
       "        vertical-align: middle;\n",
       "    }\n",
       "\n",
       "    .dataframe tbody tr th {\n",
       "        vertical-align: top;\n",
       "    }\n",
       "\n",
       "    .dataframe thead th {\n",
       "        text-align: right;\n",
       "    }\n",
       "</style>\n",
       "<table border=\"1\" class=\"dataframe\">\n",
       "  <thead>\n",
       "    <tr style=\"text-align: right;\">\n",
       "      <th></th>\n",
       "      <th>documents</th>\n",
       "      <th>num_documents</th>\n",
       "      <th>summary</th>\n",
       "    </tr>\n",
       "  </thead>\n",
       "  <tbody>\n",
       "    <tr>\n",
       "      <th>0</th>\n",
       "      <td>[GOP Eyes Gains As Voters In 11 States Pick Go...</td>\n",
       "      <td>4</td>\n",
       "      <td>– It's a race for the governor's mansion in 11...</td>\n",
       "    </tr>\n",
       "    <tr>\n",
       "      <th>1</th>\n",
       "      <td>[UPDATE: 4/19/2001 Read Richard Metzger: How I...</td>\n",
       "      <td>4</td>\n",
       "      <td>– It turns out Facebook is only guilty of abou...</td>\n",
       "    </tr>\n",
       "    <tr>\n",
       "      <th>2</th>\n",
       "      <td>[It's the Golden State's latest version of the...</td>\n",
       "      <td>4</td>\n",
       "      <td>– Not a big fan of Southern California? Neithe...</td>\n",
       "    </tr>\n",
       "    <tr>\n",
       "      <th>3</th>\n",
       "      <td>[The seed for this crawl was a list of every h...</td>\n",
       "      <td>6</td>\n",
       "      <td>– Why did Microsoft buy Nokia's phone business...</td>\n",
       "    </tr>\n",
       "    <tr>\n",
       "      <th>4</th>\n",
       "      <td>[After a year in which liberals scored impress...</td>\n",
       "      <td>5</td>\n",
       "      <td>– The Supreme Court is facing a docket of high...</td>\n",
       "    </tr>\n",
       "    <tr>\n",
       "      <th>5</th>\n",
       "      <td>[If True, Building Set For Demolition Could Be...</td>\n",
       "      <td>5</td>\n",
       "      <td>– In 1783, after the British soldiers left New...</td>\n",
       "    </tr>\n",
       "    <tr>\n",
       "      <th>6</th>\n",
       "      <td>[A still image taken from Israeli Defence Forc...</td>\n",
       "      <td>4</td>\n",
       "      <td>– Israel launched a round of airstrikes on Gaz...</td>\n",
       "    </tr>\n",
       "    <tr>\n",
       "      <th>7</th>\n",
       "      <td>[PARIS (AP) — The Pompidou Centre in Paris hop...</td>\n",
       "      <td>5</td>\n",
       "      <td>– A Picasso painting that was found to have va...</td>\n",
       "    </tr>\n",
       "    <tr>\n",
       "      <th>8</th>\n",
       "      <td>[Starting in 1996, Alexa Internet has been don...</td>\n",
       "      <td>4</td>\n",
       "      <td>– A dispute over the freshness of Wendy’s frie...</td>\n",
       "    </tr>\n",
       "    <tr>\n",
       "      <th>9</th>\n",
       "      <td>[The wounded officer is Crystal Almeida, 26. T...</td>\n",
       "      <td>5</td>\n",
       "      <td>– A 27-year-old Dallas police officer died Wed...</td>\n",
       "    </tr>\n",
       "  </tbody>\n",
       "</table>\n",
       "</div>"
      ],
      "text/plain": [
       "                                           documents  num_documents  \\\n",
       "0  [GOP Eyes Gains As Voters In 11 States Pick Go...              4   \n",
       "1  [UPDATE: 4/19/2001 Read Richard Metzger: How I...              4   \n",
       "2  [It's the Golden State's latest version of the...              4   \n",
       "3  [The seed for this crawl was a list of every h...              6   \n",
       "4  [After a year in which liberals scored impress...              5   \n",
       "5  [If True, Building Set For Demolition Could Be...              5   \n",
       "6  [A still image taken from Israeli Defence Forc...              4   \n",
       "7  [PARIS (AP) — The Pompidou Centre in Paris hop...              5   \n",
       "8  [Starting in 1996, Alexa Internet has been don...              4   \n",
       "9  [The wounded officer is Crystal Almeida, 26. T...              5   \n",
       "\n",
       "                                             summary  \n",
       "0  – It's a race for the governor's mansion in 11...  \n",
       "1  – It turns out Facebook is only guilty of abou...  \n",
       "2  – Not a big fan of Southern California? Neithe...  \n",
       "3  – Why did Microsoft buy Nokia's phone business...  \n",
       "4  – The Supreme Court is facing a docket of high...  \n",
       "5  – In 1783, after the British soldiers left New...  \n",
       "6  – Israel launched a round of airstrikes on Gaz...  \n",
       "7  – A Picasso painting that was found to have va...  \n",
       "8  – A dispute over the freshness of Wendy’s frie...  \n",
       "9  – A 27-year-old Dallas police officer died Wed...  "
      ]
     },
     "execution_count": 6,
     "metadata": {},
     "output_type": "execute_result"
    }
   ],
   "source": [
    "modified_test_df.head(10)"
   ]
  },
  {
   "cell_type": "code",
   "execution_count": 7,
   "metadata": {},
   "outputs": [],
   "source": [
    "train_df = pd.read_csv('modified_train.csv')\n",
    "validation_df = pd.read_csv('modified_validation.csv')\n",
    "test_df = pd.read_csv('modified_test.csv')"
   ]
  },
  {
   "cell_type": "code",
   "execution_count": 9,
   "metadata": {},
   "outputs": [
    {
     "name": "stdout",
     "output_type": "stream",
     "text": [
      "Sample training data saved to sample_train.csv\n",
      "Sample validation data saved to sample_validation.csv\n",
      "Sample test data saved to sample_test.csv\n"
     ]
    }
   ],
   "source": [
    "\n",
    "#taking a subset of rows for each dataset\n",
    "sample_train_df = train_df.sample(n=500, random_state=42)\n",
    "sample_validation_df = validation_df.sample(n=250, random_state=42)\n",
    "sample_test_df = test_df.sample(n=250, random_state=42)\n",
    "sample_train_csv_path = 'sample_train.csv'\n",
    "sample_validation_csv_path = 'sample_validation.csv'\n",
    "sample_test_csv_path = 'sample_test.csv'\n",
    "\n",
    "#saving the sample DataFrames as CSV files\n",
    "sample_train_df.to_csv(sample_train_csv_path, index=False)\n",
    "sample_validation_df.to_csv(sample_validation_csv_path, index=False)\n",
    "sample_test_df.to_csv(sample_test_csv_path, index=False)\n",
    "\n",
    "print(f\"Sample training data saved to {sample_train_csv_path}\")\n",
    "print(f\"Sample validation data saved to {sample_validation_csv_path}\")\n",
    "print(f\"Sample test data saved to {sample_test_csv_path}\")"
   ]
  },
  {
   "cell_type": "code",
   "execution_count": null,
   "metadata": {},
   "outputs": [],
   "source": []
  }
 ],
 "metadata": {
  "kernelspec": {
   "display_name": "base",
   "language": "python",
   "name": "python3"
  },
  "language_info": {
   "codemirror_mode": {
    "name": "ipython",
    "version": 3
   },
   "file_extension": ".py",
   "mimetype": "text/x-python",
   "name": "python",
   "nbconvert_exporter": "python",
   "pygments_lexer": "ipython3",
   "version": "3.11.4"
  },
  "orig_nbformat": 4
 },
 "nbformat": 4,
 "nbformat_minor": 2
}
