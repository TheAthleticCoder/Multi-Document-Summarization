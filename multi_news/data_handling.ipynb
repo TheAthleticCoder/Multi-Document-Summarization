{
 "cells": [
  {
   "cell_type": "markdown",
   "metadata": {},
   "source": [
    "### Downloading Dataset from HF"
   ]
  },
  {
   "cell_type": "code",
   "execution_count": 1,
   "metadata": {},
   "outputs": [
    {
     "name": "stderr",
     "output_type": "stream",
     "text": [
      "/home/harshit-g/miniconda3/lib/python3.11/site-packages/tqdm/auto.py:21: TqdmWarning: IProgress not found. Please update jupyter and ipywidgets. See https://ipywidgets.readthedocs.io/en/stable/user_install.html\n",
      "  from .autonotebook import tqdm as notebook_tqdm\n",
      "Downloading builder script: 100%|██████████| 3.83k/3.83k [00:00<00:00, 20.8MB/s]\n",
      "Downloading metadata: 100%|██████████| 2.82k/2.82k [00:00<00:00, 13.8MB/s]\n",
      "Downloading readme: 100%|██████████| 10.6k/10.6k [00:00<00:00, 22.6MB/s]\n",
      "Downloading data: 100%|██████████| 548M/548M [00:53<00:00, 10.3MB/s]\n",
      "Downloading data: 100%|██████████| 58.8M/58.8M [00:06<00:00, 9.07MB/s]\n",
      "Downloading data: 100%|██████████| 66.9M/66.9M [00:07<00:00, 9.11MB/s]\n",
      "Downloading data: 100%|██████████| 7.30M/7.30M [00:01<00:00, 4.18MB/s]\n",
      "Downloading data: 100%|██████████| 69.0M/69.0M [00:17<00:00, 3.87MB/s]\n",
      "Downloading data: 100%|██████████| 7.31M/7.31M [00:00<00:00, 9.86MB/s]\n",
      "Downloading data files: 100%|██████████| 3/3 [01:41<00:00, 33.80s/it]\n",
      "Generating train split: 100%|██████████| 44972/44972 [00:02<00:00, 19747.53 examples/s]\n",
      "Generating validation split: 100%|██████████| 5622/5622 [00:00<00:00, 20398.41 examples/s]\n",
      "Generating test split: 100%|██████████| 5622/5622 [00:00<00:00, 20324.02 examples/s]\n"
     ]
    }
   ],
   "source": [
    "#loading from hugging face datasets\n",
    "from datasets import load_dataset\n",
    "dataset = load_dataset(\"multi_news\")"
   ]
  },
  {
   "cell_type": "code",
   "execution_count": 9,
   "metadata": {},
   "outputs": [
    {
     "name": "stdout",
     "output_type": "stream",
     "text": [
      "Train data saved to train.csv\n",
      "Validation data saved to validation.csv\n",
      "Test data saved to test.csv\n"
     ]
    }
   ],
   "source": [
    "import pandas as pd\n",
    "\n",
    "#convert the train, validation, and test splits to DataFrames\n",
    "train_df = pd.DataFrame({'document': dataset['train']['document'], 'summary': dataset['train']['summary']})\n",
    "validation_df = pd.DataFrame({'document': dataset['validation']['document'], 'summary': dataset['validation']['summary']})\n",
    "test_df = pd.DataFrame({'document': dataset['test']['document'], 'summary': dataset['test']['summary']})\n",
    "\n",
    "#file paths to save the CSV files\n",
    "train_csv_path = 'train.csv'\n",
    "validation_csv_path = 'validation.csv'\n",
    "test_csv_path = 'test.csv'\n",
    "train_df.to_csv(train_csv_path, index=False)\n",
    "validation_df.to_csv(validation_csv_path, index=False)\n",
    "test_df.to_csv(test_csv_path, index=False)\n",
    "\n",
    "print(f\"Train data saved to {train_csv_path}\")\n",
    "print(f\"Validation data saved to {validation_csv_path}\")\n",
    "print(f\"Test data saved to {test_csv_path}\")"
   ]
  },
  {
   "cell_type": "markdown",
   "metadata": {},
   "source": [
    "### Converting Data To Suitable Format"
   ]
  },
  {
   "cell_type": "code",
   "execution_count": 10,
   "metadata": {},
   "outputs": [],
   "source": [
    "#function to split documents and calculate length\n",
    "def split_and_count(documents):\n",
    "    #split documents by the delimiter and strip whitespace\n",
    "    documents_list = [doc.strip() for doc in documents.split(\"|||||\")]\n",
    "    #calculate the length of the list\n",
    "    num_documents = len(documents_list)\n",
    "    return documents_list, num_documents"
   ]
  },
  {
   "cell_type": "code",
   "execution_count": 11,
   "metadata": {},
   "outputs": [
    {
     "name": "stdout",
     "output_type": "stream",
     "text": [
      "Train data saved to multi_news/train.csv\n",
      "Validation data saved to multi_news/validation.csv\n",
      "Test data saved to multi_news/test.csv\n"
     ]
    }
   ],
   "source": [
    "#split_and_count function to the train, validation, and test splits\n",
    "train_df['documents'], train_df['num_documents'] = zip(*train_df['document'].map(split_and_count))\n",
    "validation_df['documents'], validation_df['num_documents'] = zip(*validation_df['document'].map(split_and_count))\n",
    "test_df['documents'], test_df['num_documents'] = zip(*test_df['document'].map(split_and_count))\n",
    "\n",
    "#drop the original \"document\" column\n",
    "train_df.drop(columns=['document'], inplace=True)\n",
    "validation_df.drop(columns=['document'], inplace=True)\n",
    "test_df.drop(columns=['document'], inplace=True)\n",
    "\n",
    "train_df = train_df[['documents', 'num_documents', 'summary']]\n",
    "validation_df = validation_df[['documents', 'num_documents', 'summary']]\n",
    "test_df = test_df[['documents', 'num_documents', 'summary']]\n",
    "\n",
    "#define file paths for CSV files\n",
    "train_csv_path = 'multi_news/train.csv'\n",
    "validation_csv_path = 'multi_news/validation.csv'\n",
    "test_csv_path = 'multi_news/test.csv'\n",
    "\n",
    "#save the modified DataFrames as CSV files\n",
    "train_df.to_csv(train_csv_path, index=False)\n",
    "validation_df.to_csv(validation_csv_path, index=False)\n",
    "test_df.to_csv(test_csv_path, index=False)\n",
    "\n",
    "print(f\"Train data saved to {train_csv_path}\")\n",
    "print(f\"Validation data saved to {validation_csv_path}\")\n",
    "print(f\"Test data saved to {test_csv_path}\")"
   ]
  },
  {
   "cell_type": "markdown",
   "metadata": {},
   "source": [
    "### Sample File Generation"
   ]
  },
  {
   "cell_type": "code",
   "execution_count": 15,
   "metadata": {},
   "outputs": [
    {
     "name": "stdout",
     "output_type": "stream",
     "text": [
      "Sample training data saved to multi_news/sample_train.csv\n",
      "Sample validation data saved to multi_news/sample_validation.csv\n",
      "Sample test data saved to multi_news/sample_test.csv\n"
     ]
    }
   ],
   "source": [
    "import pandas as pd\n",
    "\n",
    "#defining the file paths for the original CSV files\n",
    "train_csv_path = 'multi_news/train.csv'\n",
    "validation_csv_path = 'multi_news/validation.csv'\n",
    "test_csv_path = 'multi_news/test.csv'\n",
    "\n",
    "train_df = pd.read_csv(train_csv_path)\n",
    "validation_df = pd.read_csv(validation_csv_path)\n",
    "test_df = pd.read_csv(test_csv_path)\n",
    "\n",
    "#taking a subset of rows for each dataset\n",
    "sample_train_df = train_df.sample(n=1000, random_state=42)\n",
    "sample_validation_df = validation_df.sample(n=250, random_state=42)\n",
    "sample_test_df = test_df.sample(n=250, random_state=42)\n",
    "sample_train_csv_path = 'multi_news/sample_train.csv'\n",
    "sample_validation_csv_path = 'multi_news/sample_validation.csv'\n",
    "sample_test_csv_path = 'multi_news/sample_test.csv'\n",
    "\n",
    "#saving the sample DataFrames as CSV files\n",
    "sample_train_df.to_csv(sample_train_csv_path, index=False)\n",
    "sample_validation_df.to_csv(sample_validation_csv_path, index=False)\n",
    "sample_test_df.to_csv(sample_test_csv_path, index=False)\n",
    "\n",
    "print(f\"Sample training data saved to {sample_train_csv_path}\")\n",
    "print(f\"Sample validation data saved to {sample_validation_csv_path}\")\n",
    "print(f\"Sample test data saved to {sample_test_csv_path}\")"
   ]
  },
  {
   "cell_type": "code",
   "execution_count": null,
   "metadata": {},
   "outputs": [],
   "source": []
  }
 ],
 "metadata": {
  "kernelspec": {
   "display_name": "base",
   "language": "python",
   "name": "python3"
  },
  "language_info": {
   "codemirror_mode": {
    "name": "ipython",
    "version": 3
   },
   "file_extension": ".py",
   "mimetype": "text/x-python",
   "name": "python",
   "nbconvert_exporter": "python",
   "pygments_lexer": "ipython3",
   "version": "3.11.4"
  },
  "orig_nbformat": 4
 },
 "nbformat": 4,
 "nbformat_minor": 2
}
