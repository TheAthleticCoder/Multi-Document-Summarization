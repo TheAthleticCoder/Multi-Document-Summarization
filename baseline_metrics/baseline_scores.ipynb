{
 "cells": [
  {
   "cell_type": "markdown",
   "metadata": {},
   "source": [
    "Install the HuggingFace Wrapper `evaluate` to load baseline metrics."
   ]
  },
  {
   "cell_type": "code",
   "execution_count": null,
   "metadata": {},
   "outputs": [],
   "source": [
    "## Using pip\n",
    "!pip install evaluate"
   ]
  },
  {
   "cell_type": "code",
   "execution_count": 1,
   "metadata": {},
   "outputs": [],
   "source": [
    "import pandas as pd\n",
    "import evaluate"
   ]
  },
  {
   "cell_type": "markdown",
   "metadata": {},
   "source": [
    "## Load the Metrics\n",
    "\n",
    "Install package `rouge-score` to use the HuggingFace wrapper."
   ]
  },
  {
   "cell_type": "code",
   "execution_count": 2,
   "metadata": {},
   "outputs": [
    {
     "name": "stdout",
     "output_type": "stream",
     "text": [
      "Requirement already satisfied: rouge-score in /home/shikhar/.local/lib/python3.8/site-packages (0.1.2)\n",
      "Requirement already satisfied: absl-py in /home/shikhar/.local/lib/python3.8/site-packages (from rouge-score) (1.4.0)\n",
      "Requirement already satisfied: nltk in /home/shikhar/.local/lib/python3.8/site-packages (from rouge-score) (3.8.1)\n",
      "Requirement already satisfied: numpy in /home/shikhar/.local/lib/python3.8/site-packages (from rouge-score) (1.24.3)\n",
      "Requirement already satisfied: six>=1.14.0 in /home/shikhar/.local/lib/python3.8/site-packages (from rouge-score) (1.16.0)\n",
      "Requirement already satisfied: click in /home/shikhar/.local/lib/python3.8/site-packages (from nltk->rouge-score) (8.1.3)\n",
      "Requirement already satisfied: joblib in /home/shikhar/.local/lib/python3.8/site-packages (from nltk->rouge-score) (1.2.0)\n",
      "Requirement already satisfied: regex>=2021.8.3 in /home/shikhar/.local/lib/python3.8/site-packages (from nltk->rouge-score) (2023.8.8)\n",
      "Requirement already satisfied: tqdm in /home/shikhar/.local/lib/python3.8/site-packages (from nltk->rouge-score) (4.65.0)\n"
     ]
    }
   ],
   "source": [
    "## Using pip\n",
    "!pip install rouge-score"
   ]
  },
  {
   "cell_type": "code",
   "execution_count": null,
   "metadata": {},
   "outputs": [],
   "source": [
    "## Using conda\n",
    "!conda install -c conda-forge rouge-score "
   ]
  },
  {
   "cell_type": "markdown",
   "metadata": {},
   "source": [
    "Load the metrics:"
   ]
  },
  {
   "cell_type": "code",
   "execution_count": 3,
   "metadata": {},
   "outputs": [],
   "source": [
    "rouge = evaluate.load(\"rouge\")"
   ]
  },
  {
   "cell_type": "code",
   "execution_count": 4,
   "metadata": {},
   "outputs": [
    {
     "name": "stderr",
     "output_type": "stream",
     "text": [
      "Using the latest cached version of the module from /home/shikhar/.cache/huggingface/modules/evaluate_modules/metrics/evaluate-metric--bleu/9e0985c1200e367cce45605ce0ecb5ede079894e0f24f54613fca08eeb8aff76 (last modified on Fri Nov 10 23:39:34 2023) since it couldn't be found locally at evaluate-metric--bleu, or remotely on the Hugging Face Hub.\n"
     ]
    }
   ],
   "source": [
    "bleu = evaluate.load(\"bleu\")"
   ]
  },
  {
   "cell_type": "code",
   "execution_count": 5,
   "metadata": {},
   "outputs": [
    {
     "name": "stderr",
     "output_type": "stream",
     "text": [
      "[nltk_data] Error loading wordnet: <urlopen error [Errno 104]\n",
      "[nltk_data]     Connection reset by peer>\n",
      "[nltk_data] Error loading punkt: <urlopen error [Errno 104] Connection\n",
      "[nltk_data]     reset by peer>\n",
      "[nltk_data] Error loading omw-1.4: <urlopen error [Errno 104]\n",
      "[nltk_data]     Connection reset by peer>\n"
     ]
    }
   ],
   "source": [
    "meteor = evaluate.load(\"meteor\")"
   ]
  },
  {
   "cell_type": "code",
   "execution_count": 6,
   "metadata": {},
   "outputs": [],
   "source": [
    "def evaluate_metrics(\n",
    "        csv_file, \n",
    "        gen_summary_column=\"Generated Summary\", \n",
    "        ref_summary_column=\"Reference Summary\", \n",
    "        start_index=0, \n",
    "        end_index=None\n",
    "    ):\n",
    "    \n",
    "    data = pd.read_csv(csv_file)\n",
    "    \n",
    "    if end_index == None:\n",
    "        end_index = len(data)\n",
    "\n",
    "    rouge_scores = rouge.compute(\n",
    "        predictions=data[gen_summary_column][start_index:end_index], \n",
    "        references=data[ref_summary_column][start_index:end_index], \n",
    "        rouge_types=[\"rouge1\", \"rouge2\", \"rougeL\"]\n",
    "    )\n",
    "\n",
    "    bleu_scores = bleu.compute(\n",
    "        predictions=data[gen_summary_column][start_index:end_index], \n",
    "        references=data[ref_summary_column][start_index:end_index], \n",
    "    )[\"bleu\"]\n",
    "    \n",
    "    meteor_scores = meteor.compute(\n",
    "        predictions=data[gen_summary_column][start_index:end_index], \n",
    "        references=data[ref_summary_column][start_index:end_index], \n",
    "    )\n",
    "\n",
    "    return dict(rouge_scores, **{\"bleu\": bleu_scores}, **meteor_scores)"
   ]
  },
  {
   "cell_type": "code",
   "execution_count": 7,
   "metadata": {},
   "outputs": [
    {
     "data": {
      "text/plain": [
       "{'rouge1': 0.4417954675902781,\n",
       " 'rouge2': 0.1659900680090241,\n",
       " 'rougeL': 0.22727725964286874,\n",
       " 'bleu': 0.12985966225551976,\n",
       " 'meteor': 0.30465573853478256}"
      ]
     },
     "execution_count": 7,
     "metadata": {},
     "output_type": "execute_result"
    }
   ],
   "source": [
    "evaluate_metrics(\"data/bart_mn_1.csv\")"
   ]
  },
  {
   "cell_type": "code",
   "execution_count": 8,
   "metadata": {},
   "outputs": [
    {
     "data": {
      "text/plain": [
       "{'rouge1': 0.3117770759307391,\n",
       " 'rouge2': 0.06355518848253477,\n",
       " 'rougeL': 0.16762994159339303,\n",
       " 'bleu': 0.05219787068657747,\n",
       " 'meteor': 0.2142074789210928}"
      ]
     },
     "execution_count": 8,
     "metadata": {},
     "output_type": "execute_result"
    }
   ],
   "source": [
    "evaluate_metrics(\"data/bart_multisci_1.csv\")"
   ]
  }
 ],
 "metadata": {
  "kernelspec": {
   "display_name": "base",
   "language": "python",
   "name": "python3"
  },
  "language_info": {
   "codemirror_mode": {
    "name": "ipython",
    "version": 3
   },
   "file_extension": ".py",
   "mimetype": "text/x-python",
   "name": "python",
   "nbconvert_exporter": "python",
   "pygments_lexer": "ipython3",
   "version": "3.8.10"
  }
 },
 "nbformat": 4,
 "nbformat_minor": 2
}
